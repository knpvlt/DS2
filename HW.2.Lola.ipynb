{
 "cells": [
  {
   "cell_type": "markdown",
   "id": "4d20b408",
   "metadata": {},
   "source": [
    "## Класс человека\n",
    "Моделирование человека — классическое упражнение для людей, которые пытаются научиться писать классы. Мы все знакомы с характеристиками и поведением людей, поэтому стоит попробовать это упражнение.\n",
    "* Определите класс Person().\n",
    "* В функции __init()__ определите несколько атрибутов человека. Хорошими атрибутами, которые следует учитывать, являются имя, возраст, место рождения и все, что вам нужно знать о людях в вашей жизни. Не менее 3 атрибутов.\n",
    "* Напишите один метод. Это может быть просто introduce_yourself(). Этот метод выводит такое утверждение, как «Здравствуйте, меня зовут Эрик».\n",
    "* Вы также можете создать такой метод, как age_person(). Простая версия этого метода просто добавит 1 к возрасту человека.\n",
    "* Создайте человека, установите соответствующие значения атрибутов и выведите информацию о человеке.\n",
    "* Вызовите свой метод для человека, которого вы создали. Убедитесь, что ваш метод выполняется правильно; если метод ничего не выводит напрямую, напечатайте что-нибудь до и после вызова метода, чтобы убедиться, что он сделал то, что предполагалось."
   ]
  },
  {
   "cell_type": "code",
   "execution_count": 147,
   "id": "487e27d0",
   "metadata": {},
   "outputs": [
    {
     "name": "stdout",
     "output_type": "stream",
     "text": [
      "Привет! Меня зовут Grom. В 2024 мне будет 25 и я хочу стать пекарем.\n",
      "Привет! Я Человек.\n",
      "Привет! Меня зовут Иван третий. В 2024 мне будет 346 и я пока не знаю, кем хочу стать.\n",
      "Привет! Я Прибавка.\n",
      "Мне 35\n",
      "Мне 37\n"
     ]
    }
   ],
   "source": [
    "class Person():\n",
    "    #Forming a character of person \n",
    "    \n",
    "    def __init__(self, name = None, year = None, city = None, salary = None, age = None):\n",
    "        #Assign values name, born year, city of living, salary and age \n",
    "        \n",
    "        self.name = name\n",
    "        self.year = year\n",
    "        self.city = city \n",
    "        self.salary = salary\n",
    "        self.age = age\n",
    "\n",
    "    def introduce(self, future_year = 2024, profession = None):\n",
    "        #Printing intruducing of person, if we have profession or year of birth \n",
    "        \n",
    "        if profession:\n",
    "            print(f'Привет! Меня зовут {self.name}. В {future_year} мне будет {future_year-self.year} и я хочу стать {profession}.')\n",
    "        elif profession is None and self.year is None:\n",
    "            print(f'Привет! Я {self.name}.')\n",
    "        else:\n",
    "            print(f'Привет! Меня зовут {self.name}. В {future_year} мне будет {future_year-self.year} и я пока не знаю, кем хочу стать.')\n",
    "    \n",
    "    def age_of_person(self):\n",
    "        #Just add one year\n",
    "        \n",
    "        self.age += 1\n",
    "\n",
    "my_first_person = Person(\"Grom\", year = 1999)\n",
    "Person.introduce(my_first_person, profession = \"пекарем\")\n",
    "\n",
    "my_second_person = Person(\"Человек\")\n",
    "Person.introduce(my_second_person)\n",
    "\n",
    "my_third_person = Person(\"Иван третий\", year = 1678)\n",
    "Person.introduce(my_third_person)\n",
    "\n",
    "person_who_add = Person(\"Прибавка\", age = 34)\n",
    "Person.introduce(person_who_add)\n",
    "Person.age_of_person(person_who_add)\n",
    "print(\"Мне\", person_who_add.age)\n",
    "Person.age_of_person(person_who_add)\n",
    "Person.age_of_person(person_who_add)\n",
    "print(\"Мне\", person_who_add.age)"
   ]
  },
  {
   "cell_type": "code",
   "execution_count": 148,
   "id": "dfd59d48",
   "metadata": {},
   "outputs": [
    {
     "name": "stdout",
     "output_type": "stream",
     "text": [
      "Привет! Я Lola. Мне 21 год. Я из St.Peterburg. Я 2001 года рождения. Не знаю, зачем Вам эта информация, но пусть будет.\n"
     ]
    }
   ],
   "source": [
    "big_person = Person(\"Lola\", 2001, \"St.Peterburg\", salary = None, age = 21)\n",
    "print(f\"Привет! Я {big_person.name}. Мне {big_person.age} год. Я из {big_person.city}. Я {big_person.year} года рождения. Не знаю, зачем Вам эта информация, но пусть будет.\")"
   ]
  },
  {
   "cell_type": "code",
   "execution_count": 154,
   "id": "4bcc5d39",
   "metadata": {},
   "outputs": [
    {
     "name": "stdout",
     "output_type": "stream",
     "text": [
      "Привет! Я Uliana. Мне 37. Я из Chita. Надеюсь, у меня когда нибудь будет зарплата 240000 долларов.\n",
      "Привет! Я Lola. Мне 28. Я из Moscow. Надеюсь, у меня когда нибудь будет зарплата 280000 долларов.\n",
      "Привет! Я Uliana. Мне 29. Я из Ufa. Надеюсь, у меня когда нибудь будет зарплата 180000 долларов.\n",
      "Привет! Я Uliana. Мне 28. Я из Moscow. Надеюсь, у меня когда нибудь будет зарплата 20000 долларов.\n",
      "Привет! Я Ivan. Мне 30. Я из Moscow. Надеюсь, у меня когда нибудь будет зарплата 240000 долларов.\n",
      "Привет! Я Nastya. Мне 29. Я из Moscow. Надеюсь, у меня когда нибудь будет зарплата 210000 долларов.\n",
      "Привет! Я Uliana. Мне 22. Я из St. Peterburg. Надеюсь, у меня когда нибудь будет зарплата 320000 долларов.\n",
      "Привет! Я Anton. Мне 30. Я из Moscow. Надеюсь, у меня когда нибудь будет зарплата 310000 долларов.\n",
      "Привет! Я Ivan. Мне 34. Я из Ufa. Надеюсь, у меня когда нибудь будет зарплата 70000 долларов.\n",
      "Привет! Я Nastya. Мне 29. Я из St. Peterburg. Надеюсь, у меня когда нибудь будет зарплата 140000 долларов.\n",
      "Привет! Я Tanya. Мне 26. Я из St. Peterburg. Надеюсь, у меня когда нибудь будет зарплата 160000 долларов.\n",
      "Привет! Я Ivan. Мне 35. Я из St. Peterburg. Надеюсь, у меня когда нибудь будет зарплата 290000 долларов.\n",
      "Привет! Я Anton. Мне 21. Я из Moscow. Надеюсь, у меня когда нибудь будет зарплата 220000 долларов.\n",
      "Привет! Я Tanya. Мне 34. Я из Chita. Надеюсь, у меня когда нибудь будет зарплата 320000 долларов.\n",
      "Привет! Я Anton. Мне 27. Я из Ufa. Надеюсь, у меня когда нибудь будет зарплата 190000 долларов.\n",
      "Привет! Я Nastya. Мне 28. Я из Ufa. Надеюсь, у меня когда нибудь будет зарплата 100000 долларов.\n",
      "Привет! Я Tanya. Мне 30. Я из Ufa. Надеюсь, у меня когда нибудь будет зарплата 100000 долларов.\n",
      "Привет! Я Uliana. Мне 22. Я из Ufa. Надеюсь, у меня когда нибудь будет зарплата 300000 долларов.\n",
      "Привет! Я Nastya. Мне 37. Я из St. Peterburg. Надеюсь, у меня когда нибудь будет зарплата 270000 долларов.\n",
      "Привет! Я Anton. Мне 39. Я из Chita. Надеюсь, у меня когда нибудь будет зарплата 230000 долларов.\n",
      "Привет! Я Nastya. Мне 32. Я из St. Peterburg. Надеюсь, у меня когда нибудь будет зарплата 220000 долларов.\n",
      "Привет! Я Nastya. Мне 31. Я из St. Peterburg. Надеюсь, у меня когда нибудь будет зарплата 250000 долларов.\n",
      "Привет! Я Nastya. Мне 36. Я из Ufa. Надеюсь, у меня когда нибудь будет зарплата 290000 долларов.\n",
      "Привет! Я Lola. Мне 33. Я из Ufa. Надеюсь, у меня когда нибудь будет зарплата 220000 долларов.\n",
      "Привет! Я Lola. Мне 39. Я из Chita. Надеюсь, у меня когда нибудь будет зарплата 130000 долларов.\n",
      "Привет! Я Anton. Мне 29. Я из St. Peterburg. Надеюсь, у меня когда нибудь будет зарплата 300000 долларов.\n",
      "Привет! Я Uliana. Мне 22. Я из St. Peterburg. Надеюсь, у меня когда нибудь будет зарплата 210000 долларов.\n",
      "Привет! Я Anton. Мне 26. Я из Ufa. Надеюсь, у меня когда нибудь будет зарплата 260000 долларов.\n",
      "Привет! Я Uliana. Мне 21. Я из Chita. Надеюсь, у меня когда нибудь будет зарплата 280000 долларов.\n",
      "Привет! Я Lola. Мне 34. Я из Ufa. Надеюсь, у меня когда нибудь будет зарплата 260000 долларов.\n"
     ]
    }
   ],
   "source": [
    "from random import randint, randrange\n",
    "\n",
    "names = ['Nastya', 'Anton', 'Lola', 'Uliana', 'Tanya', 'Ivan']\n",
    "\n",
    "cities = ['Moscow', 'St. Peterburg', 'Ufa', 'Chita']\n",
    "salaries = [x*1000 for x in range(20, 500, 10)]\n",
    "\n",
    "\n",
    "persons = [Person(names[randint(0,5)], city = cities[randint(0, 3)], salary = salaries[randint(0, 30)], age = randint(19, 40)) for x in range(0, 30)]\n",
    "for i in persons:\n",
    "    print(f\"Привет! Я {i.name}. Мне {i.age}. Я из {i.city}. Надеюсь, у меня когда нибудь будет зарплата {i.salary} долларов.\")"
   ]
  },
  {
   "cell_type": "markdown",
   "id": "b0feab5a",
   "metadata": {},
   "source": [
    "## Студенческий класс\n",
    "\n",
    "* Начните с вашей программы из класса Person.\n",
    "* Создайте новый класс под названием Student, который наследуется от Person.\n",
    "* Определите некоторые качества, которые есть у учащегося, которых нет у других людей.\n",
    "    У учащегося есть школа, с которой он связан, год выпуска, средний балл и другие особые атрибуты.\n",
    "* Создайте объект Student и докажите, что вы правильно использовали наследование.\n",
    "* Установите некоторые значения атрибутов для учащегося, которые закодированы только в классе Person.\n",
    "* Установите некоторые значения атрибутов для учащегося, которые закодированы только в классе учащегося.\n",
    "* Выведите значения для всех этих атрибутов."
   ]
  },
  {
   "cell_type": "code",
   "execution_count": 217,
   "id": "543fece6",
   "metadata": {},
   "outputs": [],
   "source": [
    "class Student(Person):\n",
    "    \n",
    "    def __init__(self, name, age, school = None, score = None, salary = None):\n",
    "        super().__init__(name, age)\n",
    "        self.school = school\n",
    "        self.score = score\n",
    "        \n",
    "    def best(self, score):\n",
    "        if score >= 4:\n",
    "            return f'хороший студент'\n",
    "        else:\n",
    "            return f'есть к чему стремиться...'"
   ]
  },
  {
   "cell_type": "code",
   "execution_count": 218,
   "id": "45abdef8",
   "metadata": {},
   "outputs": [
    {
     "name": "stdout",
     "output_type": "stream",
     "text": [
      "Lola имеет 2 балла в Гимназия № 0\n",
      "Anton имеет 4 балла в Гимназия № 10\n",
      "Ivan имеет 4 балла в Гимназия № 7\n"
     ]
    }
   ],
   "source": [
    "students = []\n",
    "for x in range(0,3):\n",
    "    name = names[randint(0,5)]\n",
    "    age = randint(19, 40)\n",
    "    \n",
    "    school =\"Гимназия № \" + str(randint(0,10))\n",
    "    score = randrange(1, 6)\n",
    "    students.append(Student(name, age, school, score))\n",
    "\n",
    "for x in students:\n",
    "    print(f'{x.name} имеет {x.score} балла в {x.school}')"
   ]
  },
  {
   "cell_type": "code",
   "execution_count": 222,
   "id": "5c29a0cf",
   "metadata": {},
   "outputs": [
    {
     "name": "stdout",
     "output_type": "stream",
     "text": [
      "<class 'int'>\n",
      "<class 'int'>\n",
      "<class 'int'>\n",
      "<class 'int'>\n",
      "<class 'int'>\n",
      "<class 'int'>\n",
      "<class 'int'>\n",
      "Uliana, None лет, имеет 3 балла в Гимназия № 4. Исходя из бала есть к чему стремиться...\n",
      "Lola, None лет, имеет 2 балла в Гимназия № 1. Исходя из бала есть к чему стремиться...\n",
      "Uliana, None лет, имеет 1 балла в Гимназия № 8. Исходя из бала есть к чему стремиться...\n",
      "Uliana, None лет, имеет 1 балла в Гимназия № 3. Исходя из бала есть к чему стремиться...\n",
      "Ivan, None лет, имеет 3 балла в Гимназия № 4. Исходя из бала есть к чему стремиться...\n",
      "Nastya, None лет, имеет 3 балла в Гимназия № 0. Исходя из бала есть к чему стремиться...\n",
      "Uliana, None лет, имеет 2 балла в Гимназия № 9. Исходя из бала есть к чему стремиться...\n"
     ]
    }
   ],
   "source": [
    "stud_from_pers = []\n",
    "for x in persons[:7]:\n",
    "    print(type(x.age))\n",
    "    school =\"Гимназия № \" + str(randint(0,10))\n",
    "    score = randrange(1, 5)\n",
    "    stud_from_pers.append(Student(x.name, x.age, school, score, x.salary))\n",
    "\n",
    "for x in stud_from_pers[:7]:\n",
    "    print(f'{x.name}, {x.age} лет, имеет {x.score} балла в {x.school}. Исходя из бала {x.best(x.score)}')"
   ]
  },
  {
   "cell_type": "code",
   "execution_count": null,
   "id": "93d4a851",
   "metadata": {},
   "outputs": [],
   "source": []
  },
  {
   "cell_type": "code",
   "execution_count": null,
   "id": "e9275d37",
   "metadata": {},
   "outputs": [],
   "source": []
  }
 ],
 "metadata": {
  "kernelspec": {
   "display_name": "Python 3 (ipykernel)",
   "language": "python",
   "name": "python3"
  },
  "language_info": {
   "codemirror_mode": {
    "name": "ipython",
    "version": 3
   },
   "file_extension": ".py",
   "mimetype": "text/x-python",
   "name": "python",
   "nbconvert_exporter": "python",
   "pygments_lexer": "ipython3",
   "version": "3.10.9"
  },
  "widgets": {
   "application/vnd.jupyter.widget-state+json": {
    "state": {},
    "version_major": 2,
    "version_minor": 0
   }
  }
 },
 "nbformat": 4,
 "nbformat_minor": 5
}
