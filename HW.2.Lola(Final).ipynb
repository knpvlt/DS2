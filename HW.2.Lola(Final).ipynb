{
 "cells": [
  {
   "cell_type": "markdown",
   "id": "4d20b408",
   "metadata": {},
   "source": [
    "## Класс человека\n",
    "Моделирование человека — классическое упражнение для людей, которые пытаются научиться писать классы. Мы все знакомы с характеристиками и поведением людей, поэтому стоит попробовать это упражнение.\n",
    "* Определите класс Person().\n",
    "* В функции __init()__ определите несколько атрибутов человека. Хорошими атрибутами, которые следует учитывать, являются имя, возраст, место рождения и все, что вам нужно знать о людях в вашей жизни. Не менее 3 атрибутов.\n",
    "* Напишите один метод. Это может быть просто introduce_yourself(). Этот метод выводит такое утверждение, как «Здравствуйте, меня зовут Эрик».\n",
    "* Вы также можете создать такой метод, как age_person(). Простая версия этого метода просто добавит 1 к возрасту человека.\n",
    "* Создайте человека, установите соответствующие значения атрибутов и выведите информацию о человеке.\n",
    "* Вызовите свой метод для человека, которого вы создали. Убедитесь, что ваш метод выполняется правильно; если метод ничего не выводит напрямую, напечатайте что-нибудь до и после вызова метода, чтобы убедиться, что он сделал то, что предполагалось."
   ]
  },
  {
   "cell_type": "code",
   "execution_count": 12,
   "id": "487e27d0",
   "metadata": {},
   "outputs": [],
   "source": [
    "class Person():\n",
    "    #Forming a character of person \n",
    "    \n",
    "    def __init__(self, name = None, age = None, city = None, gender = None):\n",
    "        #Assign values name, age \n",
    "        \n",
    "        self.name = name\n",
    "        self.age = age\n",
    "        self.city = city \n",
    "        self.gender = gender\n",
    "        \n",
    "\n",
    "    def __str__(self):\n",
    "        #Printing intruducing of person, if we have profession or year of birth \n",
    "        \n",
    "        if self.gender and self.city:\n",
    "            intro = f'Привет! Меня зовут {self.name}. Я {self.gender}. Мне {self.age} лет. Я из {self.city}.'\n",
    "        else:\n",
    "            intro = f'Привет! Я {self.name}. Мне {self.age} лет.'\n",
    "        return intro\n",
    "        \n",
    "        \n",
    "    def age_of_person(self):\n",
    "        #Just add one year\n",
    "        \n",
    "        self.age += 1\n",
    "\n",
    "\n",
    "# my_first_person = Person(\"Grom\", 20, \"Спб\", \"мужчина\")\n",
    "# print(my_first_person)\n",
    "# my_first_person.age_of_person()\n",
    "# print(my_first_person.age)"
   ]
  },
  {
   "cell_type": "code",
   "execution_count": 13,
   "id": "dfd59d48",
   "metadata": {},
   "outputs": [
    {
     "name": "stdout",
     "output_type": "stream",
     "text": [
      "Привет! Меня зовут Lola. Я девушка. Мне 21 лет. Я из St.Peterburg.\n"
     ]
    }
   ],
   "source": [
    "big_person = Person(\"Lola\", 21, \"St.Peterburg\", \"девушка\")\n",
    "print(big_person)"
   ]
  },
  {
   "cell_type": "code",
   "execution_count": 40,
   "id": "4bcc5d39",
   "metadata": {},
   "outputs": [],
   "source": [
    "from random import randint, uniform\n",
    "\n",
    "names = ['Настя', 'Антон', 'Лола', 'Ульяна', 'Женя', 'Саша']\n",
    "cities = ['Москва', 'Питер', 'Стамбул', 'Абу-Даби', 'Сеул', 'Ереван']\n",
    "genders = ['женщина', 'девушка', 'мужчина', 'парень']\n",
    "\n",
    "\n",
    "persons = [Person(name = names[randint(0,5)], age = randint(19, 40), city = cities[randint(0, 5)], gender = genders[randint(0, 3)]) for x in range(0, 30)]\n",
    "# for i in persons[:4]:\n",
    "#     print(f\"Меня зовут {i.name}, но чаще тусить. Мне {i.age} лет. {i.city} мой любимый город. У меня есть {i.gender}.\")"
   ]
  },
  {
   "cell_type": "markdown",
   "id": "b0feab5a",
   "metadata": {},
   "source": [
    "## Студенческий класс\n",
    "\n",
    "* Начните с вашей программы из класса Person.\n",
    "* Создайте новый класс под названием Student, который наследуется от Person.\n",
    "* Определите некоторые качества, которые есть у учащегося, которых нет у других людей.\n",
    "    У учащегося есть школа, с которой он связан, год выпуска, средний балл и другие особые атрибуты.\n",
    "* Создайте объект Student и докажите, что вы правильно использовали наследование.\n",
    "* Установите некоторые значения атрибутов для учащегося, которые закодированы только в классе Person.\n",
    "* Установите некоторые значения атрибутов для учащегося, которые закодированы только в классе учащегося.\n",
    "* Выведите значения для всех этих атрибутов."
   ]
  },
  {
   "cell_type": "code",
   "execution_count": 41,
   "id": "543fece6",
   "metadata": {},
   "outputs": [],
   "source": [
    "class Student(Person):\n",
    "    #Forming a person-student and assign school and score\n",
    "    \n",
    "    def __init__(self, name, age, school = None, score = None):\n",
    "        super().__init__(name, age)\n",
    "        self.school = school\n",
    "        self.score = score\n",
    "        \n",
    "    def best(self):\n",
    "        #Check his/her grade\n",
    "        \n",
    "        if self.score >= 4:\n",
    "            return f'хороший студент'\n",
    "        else:\n",
    "            return f'есть к чему стремиться...'"
   ]
  },
  {
   "cell_type": "code",
   "execution_count": 42,
   "id": "01282f20",
   "metadata": {},
   "outputs": [
    {
     "name": "stdout",
     "output_type": "stream",
     "text": [
      "Привет! Я Лола. Мне 21 лет.\n",
      "хороший студент\n"
     ]
    }
   ],
   "source": [
    "big_student = Student(\"Лола\", 21, 3, 4)\n",
    "print(big_student)\n",
    "print(big_student.best())"
   ]
  },
  {
   "cell_type": "code",
   "execution_count": 47,
   "id": "45abdef8",
   "metadata": {},
   "outputs": [
    {
     "name": "stdout",
     "output_type": "stream",
     "text": [
      "Лола имеет 2.29 балла в Гимназии № 2\n",
      "Саша имеет 1.16 балла в Гимназии № 2\n",
      "Ульяна имеет 4.17 балла в Гимназии № 3\n"
     ]
    }
   ],
   "source": [
    "students = []\n",
    "for x in range(0,3):\n",
    "    name = names[randint(0,5)]\n",
    "    age = randint(19, 40)\n",
    "    school =\"Гимназии № \" + str(randint(0,10))\n",
    "    score = round(uniform(1.0, 5.1), 2)\n",
    "    students.append(Student(name, age, school, score))\n",
    "\n",
    "for x in students:\n",
    "    print(f'{x.name} имеет {x.score} балла в {x.school}')"
   ]
  },
  {
   "cell_type": "code",
   "execution_count": 48,
   "id": "5c29a0cf",
   "metadata": {},
   "outputs": [
    {
     "name": "stdout",
     "output_type": "stream",
     "text": [
      "Настя, 36 лет, имеет 3.77 балла в Гимназия № 4. Исходя из бала, есть к чему стремиться...\n",
      "Настя, 31 лет, имеет 3.88 балла в Гимназия № 8. Исходя из бала, есть к чему стремиться...\n",
      "Антон, 19 лет, имеет 4.57 балла в Гимназия № 3. Исходя из бала, хороший студент\n"
     ]
    }
   ],
   "source": [
    "stud_from_pers = []\n",
    "for x in persons[:7]:\n",
    "    school =\"Гимназия № \" + str(randint(0,10))\n",
    "    score = round(uniform(1.0, 5.1), 2)\n",
    "    stud_from_pers.append(Student(x.name, x.age, school, score))\n",
    "\n",
    "for x in stud_from_pers[:3]:\n",
    "    print(f'{x.name}, {x.age} лет, имеет {x.score} балла в {x.school}. Исходя из бала, {x.best()}')"
   ]
  }
 ],
 "metadata": {
  "kernelspec": {
   "display_name": "Python 3 (ipykernel)",
   "language": "python",
   "name": "python3"
  },
  "language_info": {
   "codemirror_mode": {
    "name": "ipython",
    "version": 3
   },
   "file_extension": ".py",
   "mimetype": "text/x-python",
   "name": "python",
   "nbconvert_exporter": "python",
   "pygments_lexer": "ipython3",
   "version": "3.10.9"
  }
 },
 "nbformat": 4,
 "nbformat_minor": 5
}
