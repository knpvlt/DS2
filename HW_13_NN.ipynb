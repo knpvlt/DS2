{
  "nbformat": 4,
  "nbformat_minor": 0,
  "metadata": {
    "colab": {
      "provenance": []
    },
    "kernelspec": {
      "name": "python3",
      "display_name": "Python 3"
    },
    "language_info": {
      "name": "python"
    }
  },
  "cells": [
    {
      "cell_type": "markdown",
      "source": [
        "Импортируем все необходимые библиотеки, в процессе будем подгружать еще)"
      ],
      "metadata": {
        "id": "NnzS3zGafKSv"
      }
    },
    {
      "cell_type": "code",
      "execution_count": 4,
      "metadata": {
        "id": "3IEkBKmLmMHv"
      },
      "outputs": [],
      "source": [
        "import numpy as np\n",
        "import pandas as pd\n",
        "import matplotlib.pyplot as plt\n",
        "import seaborn as sns\n",
        "\n",
        "import torch\n",
        "import torch.nn as nn"
      ]
    },
    {
      "cell_type": "markdown",
      "source": [
        "Ипортируем данные"
      ],
      "metadata": {
        "id": "FUhprucOfXdF"
      }
    },
    {
      "cell_type": "code",
      "source": [
        "df = pd.read_csv('/content/drive/MyDrive/pulsar_data_train.csv')\n",
        "df.head()"
      ],
      "metadata": {
        "colab": {
          "base_uri": "https://localhost:8080/",
          "height": 320
        },
        "id": "LA2Cyx06mxo8",
        "outputId": "9a7c7a86-3c8f-4e01-99f2-9499336d2024"
      },
      "execution_count": 5,
      "outputs": [
        {
          "output_type": "execute_result",
          "data": {
            "text/plain": [
              "    Mean of the integrated profile  \\\n",
              "0                       121.156250   \n",
              "1                        76.968750   \n",
              "2                       130.585938   \n",
              "3                       156.398438   \n",
              "4                        84.804688   \n",
              "\n",
              "    Standard deviation of the integrated profile  \\\n",
              "0                                      48.372971   \n",
              "1                                      36.175557   \n",
              "2                                      53.229534   \n",
              "3                                      48.865942   \n",
              "4                                      36.117659   \n",
              "\n",
              "    Excess kurtosis of the integrated profile  \\\n",
              "0                                    0.375485   \n",
              "1                                    0.712898   \n",
              "2                                    0.133408   \n",
              "3                                   -0.215989   \n",
              "4                                    0.825013   \n",
              "\n",
              "    Skewness of the integrated profile   Mean of the DM-SNR curve  \\\n",
              "0                            -0.013165                   3.168896   \n",
              "1                             3.388719                   2.399666   \n",
              "2                            -0.297242                   2.743311   \n",
              "3                            -0.171294                  17.471572   \n",
              "4                             3.274125                   2.790134   \n",
              "\n",
              "    Standard deviation of the DM-SNR curve  \\\n",
              "0                                18.399367   \n",
              "1                                17.570997   \n",
              "2                                22.362553   \n",
              "3                                      NaN   \n",
              "4                                20.618009   \n",
              "\n",
              "    Excess kurtosis of the DM-SNR curve   Skewness of the DM-SNR curve  \\\n",
              "0                              7.449874                      65.159298   \n",
              "1                              9.414652                     102.722975   \n",
              "2                              8.508364                      74.031324   \n",
              "3                              2.958066                       7.197842   \n",
              "4                              8.405008                      76.291128   \n",
              "\n",
              "   target_class  \n",
              "0           0.0  \n",
              "1           0.0  \n",
              "2           0.0  \n",
              "3           0.0  \n",
              "4           0.0  "
            ],
            "text/html": [
              "\n",
              "\n",
              "  <div id=\"df-c89254ae-9e95-4360-ac6a-73e91140921c\">\n",
              "    <div class=\"colab-df-container\">\n",
              "      <div>\n",
              "<style scoped>\n",
              "    .dataframe tbody tr th:only-of-type {\n",
              "        vertical-align: middle;\n",
              "    }\n",
              "\n",
              "    .dataframe tbody tr th {\n",
              "        vertical-align: top;\n",
              "    }\n",
              "\n",
              "    .dataframe thead th {\n",
              "        text-align: right;\n",
              "    }\n",
              "</style>\n",
              "<table border=\"1\" class=\"dataframe\">\n",
              "  <thead>\n",
              "    <tr style=\"text-align: right;\">\n",
              "      <th></th>\n",
              "      <th>Mean of the integrated profile</th>\n",
              "      <th>Standard deviation of the integrated profile</th>\n",
              "      <th>Excess kurtosis of the integrated profile</th>\n",
              "      <th>Skewness of the integrated profile</th>\n",
              "      <th>Mean of the DM-SNR curve</th>\n",
              "      <th>Standard deviation of the DM-SNR curve</th>\n",
              "      <th>Excess kurtosis of the DM-SNR curve</th>\n",
              "      <th>Skewness of the DM-SNR curve</th>\n",
              "      <th>target_class</th>\n",
              "    </tr>\n",
              "  </thead>\n",
              "  <tbody>\n",
              "    <tr>\n",
              "      <th>0</th>\n",
              "      <td>121.156250</td>\n",
              "      <td>48.372971</td>\n",
              "      <td>0.375485</td>\n",
              "      <td>-0.013165</td>\n",
              "      <td>3.168896</td>\n",
              "      <td>18.399367</td>\n",
              "      <td>7.449874</td>\n",
              "      <td>65.159298</td>\n",
              "      <td>0.0</td>\n",
              "    </tr>\n",
              "    <tr>\n",
              "      <th>1</th>\n",
              "      <td>76.968750</td>\n",
              "      <td>36.175557</td>\n",
              "      <td>0.712898</td>\n",
              "      <td>3.388719</td>\n",
              "      <td>2.399666</td>\n",
              "      <td>17.570997</td>\n",
              "      <td>9.414652</td>\n",
              "      <td>102.722975</td>\n",
              "      <td>0.0</td>\n",
              "    </tr>\n",
              "    <tr>\n",
              "      <th>2</th>\n",
              "      <td>130.585938</td>\n",
              "      <td>53.229534</td>\n",
              "      <td>0.133408</td>\n",
              "      <td>-0.297242</td>\n",
              "      <td>2.743311</td>\n",
              "      <td>22.362553</td>\n",
              "      <td>8.508364</td>\n",
              "      <td>74.031324</td>\n",
              "      <td>0.0</td>\n",
              "    </tr>\n",
              "    <tr>\n",
              "      <th>3</th>\n",
              "      <td>156.398438</td>\n",
              "      <td>48.865942</td>\n",
              "      <td>-0.215989</td>\n",
              "      <td>-0.171294</td>\n",
              "      <td>17.471572</td>\n",
              "      <td>NaN</td>\n",
              "      <td>2.958066</td>\n",
              "      <td>7.197842</td>\n",
              "      <td>0.0</td>\n",
              "    </tr>\n",
              "    <tr>\n",
              "      <th>4</th>\n",
              "      <td>84.804688</td>\n",
              "      <td>36.117659</td>\n",
              "      <td>0.825013</td>\n",
              "      <td>3.274125</td>\n",
              "      <td>2.790134</td>\n",
              "      <td>20.618009</td>\n",
              "      <td>8.405008</td>\n",
              "      <td>76.291128</td>\n",
              "      <td>0.0</td>\n",
              "    </tr>\n",
              "  </tbody>\n",
              "</table>\n",
              "</div>\n",
              "      <button class=\"colab-df-convert\" onclick=\"convertToInteractive('df-c89254ae-9e95-4360-ac6a-73e91140921c')\"\n",
              "              title=\"Convert this dataframe to an interactive table.\"\n",
              "              style=\"display:none;\">\n",
              "\n",
              "  <svg xmlns=\"http://www.w3.org/2000/svg\" height=\"24px\"viewBox=\"0 0 24 24\"\n",
              "       width=\"24px\">\n",
              "    <path d=\"M0 0h24v24H0V0z\" fill=\"none\"/>\n",
              "    <path d=\"M18.56 5.44l.94 2.06.94-2.06 2.06-.94-2.06-.94-.94-2.06-.94 2.06-2.06.94zm-11 1L8.5 8.5l.94-2.06 2.06-.94-2.06-.94L8.5 2.5l-.94 2.06-2.06.94zm10 10l.94 2.06.94-2.06 2.06-.94-2.06-.94-.94-2.06-.94 2.06-2.06.94z\"/><path d=\"M17.41 7.96l-1.37-1.37c-.4-.4-.92-.59-1.43-.59-.52 0-1.04.2-1.43.59L10.3 9.45l-7.72 7.72c-.78.78-.78 2.05 0 2.83L4 21.41c.39.39.9.59 1.41.59.51 0 1.02-.2 1.41-.59l7.78-7.78 2.81-2.81c.8-.78.8-2.07 0-2.86zM5.41 20L4 18.59l7.72-7.72 1.47 1.35L5.41 20z\"/>\n",
              "  </svg>\n",
              "      </button>\n",
              "\n",
              "\n",
              "\n",
              "    <div id=\"df-e8f25535-311f-49ba-81fc-ed145d237dc6\">\n",
              "      <button class=\"colab-df-quickchart\" onclick=\"quickchart('df-e8f25535-311f-49ba-81fc-ed145d237dc6')\"\n",
              "              title=\"Suggest charts.\"\n",
              "              style=\"display:none;\">\n",
              "\n",
              "<svg xmlns=\"http://www.w3.org/2000/svg\" height=\"24px\"viewBox=\"0 0 24 24\"\n",
              "     width=\"24px\">\n",
              "    <g>\n",
              "        <path d=\"M19 3H5c-1.1 0-2 .9-2 2v14c0 1.1.9 2 2 2h14c1.1 0 2-.9 2-2V5c0-1.1-.9-2-2-2zM9 17H7v-7h2v7zm4 0h-2V7h2v10zm4 0h-2v-4h2v4z\"/>\n",
              "    </g>\n",
              "</svg>\n",
              "      </button>\n",
              "    </div>\n",
              "\n",
              "<style>\n",
              "  .colab-df-quickchart {\n",
              "    background-color: #E8F0FE;\n",
              "    border: none;\n",
              "    border-radius: 50%;\n",
              "    cursor: pointer;\n",
              "    display: none;\n",
              "    fill: #1967D2;\n",
              "    height: 32px;\n",
              "    padding: 0 0 0 0;\n",
              "    width: 32px;\n",
              "  }\n",
              "\n",
              "  .colab-df-quickchart:hover {\n",
              "    background-color: #E2EBFA;\n",
              "    box-shadow: 0px 1px 2px rgba(60, 64, 67, 0.3), 0px 1px 3px 1px rgba(60, 64, 67, 0.15);\n",
              "    fill: #174EA6;\n",
              "  }\n",
              "\n",
              "  [theme=dark] .colab-df-quickchart {\n",
              "    background-color: #3B4455;\n",
              "    fill: #D2E3FC;\n",
              "  }\n",
              "\n",
              "  [theme=dark] .colab-df-quickchart:hover {\n",
              "    background-color: #434B5C;\n",
              "    box-shadow: 0px 1px 3px 1px rgba(0, 0, 0, 0.15);\n",
              "    filter: drop-shadow(0px 1px 2px rgba(0, 0, 0, 0.3));\n",
              "    fill: #FFFFFF;\n",
              "  }\n",
              "</style>\n",
              "\n",
              "    <script>\n",
              "      async function quickchart(key) {\n",
              "        const containerElement = document.querySelector('#' + key);\n",
              "        const charts = await google.colab.kernel.invokeFunction(\n",
              "            'suggestCharts', [key], {});\n",
              "      }\n",
              "    </script>\n",
              "\n",
              "      <script>\n",
              "\n",
              "function displayQuickchartButton(domScope) {\n",
              "  let quickchartButtonEl =\n",
              "    domScope.querySelector('#df-e8f25535-311f-49ba-81fc-ed145d237dc6 button.colab-df-quickchart');\n",
              "  quickchartButtonEl.style.display =\n",
              "    google.colab.kernel.accessAllowed ? 'block' : 'none';\n",
              "}\n",
              "\n",
              "        displayQuickchartButton(document);\n",
              "      </script>\n",
              "      <style>\n",
              "    .colab-df-container {\n",
              "      display:flex;\n",
              "      flex-wrap:wrap;\n",
              "      gap: 12px;\n",
              "    }\n",
              "\n",
              "    .colab-df-convert {\n",
              "      background-color: #E8F0FE;\n",
              "      border: none;\n",
              "      border-radius: 50%;\n",
              "      cursor: pointer;\n",
              "      display: none;\n",
              "      fill: #1967D2;\n",
              "      height: 32px;\n",
              "      padding: 0 0 0 0;\n",
              "      width: 32px;\n",
              "    }\n",
              "\n",
              "    .colab-df-convert:hover {\n",
              "      background-color: #E2EBFA;\n",
              "      box-shadow: 0px 1px 2px rgba(60, 64, 67, 0.3), 0px 1px 3px 1px rgba(60, 64, 67, 0.15);\n",
              "      fill: #174EA6;\n",
              "    }\n",
              "\n",
              "    [theme=dark] .colab-df-convert {\n",
              "      background-color: #3B4455;\n",
              "      fill: #D2E3FC;\n",
              "    }\n",
              "\n",
              "    [theme=dark] .colab-df-convert:hover {\n",
              "      background-color: #434B5C;\n",
              "      box-shadow: 0px 1px 3px 1px rgba(0, 0, 0, 0.15);\n",
              "      filter: drop-shadow(0px 1px 2px rgba(0, 0, 0, 0.3));\n",
              "      fill: #FFFFFF;\n",
              "    }\n",
              "  </style>\n",
              "\n",
              "      <script>\n",
              "        const buttonEl =\n",
              "          document.querySelector('#df-c89254ae-9e95-4360-ac6a-73e91140921c button.colab-df-convert');\n",
              "        buttonEl.style.display =\n",
              "          google.colab.kernel.accessAllowed ? 'block' : 'none';\n",
              "\n",
              "        async function convertToInteractive(key) {\n",
              "          const element = document.querySelector('#df-c89254ae-9e95-4360-ac6a-73e91140921c');\n",
              "          const dataTable =\n",
              "            await google.colab.kernel.invokeFunction('convertToInteractive',\n",
              "                                                     [key], {});\n",
              "          if (!dataTable) return;\n",
              "\n",
              "          const docLinkHtml = 'Like what you see? Visit the ' +\n",
              "            '<a target=\"_blank\" href=https://colab.research.google.com/notebooks/data_table.ipynb>data table notebook</a>'\n",
              "            + ' to learn more about interactive tables.';\n",
              "          element.innerHTML = '';\n",
              "          dataTable['output_type'] = 'display_data';\n",
              "          await google.colab.output.renderOutput(dataTable, element);\n",
              "          const docLink = document.createElement('div');\n",
              "          docLink.innerHTML = docLinkHtml;\n",
              "          element.appendChild(docLink);\n",
              "        }\n",
              "      </script>\n",
              "    </div>\n",
              "  </div>\n"
            ]
          },
          "metadata": {},
          "execution_count": 5
        }
      ]
    },
    {
      "cell_type": "markdown",
      "source": [
        "Для удобства работы переименовываем колонки и посмотрим сколько значений каждого класса"
      ],
      "metadata": {
        "id": "QFX8uMFafdgy"
      }
    },
    {
      "cell_type": "code",
      "source": [
        "colu = ['mean_ip',\n",
        "       'standard_ip',\n",
        "       'excess_ip',\n",
        "       'skewness_ip', 'mean_DM_SNR',\n",
        "       'standard_DM_SNR',\n",
        "       'exces_DM_SNR', 'skewness_DM_SNR',\n",
        "       'target_class']\n",
        "df.columns = colu\n",
        "df['target_class'].value_counts()"
      ],
      "metadata": {
        "colab": {
          "base_uri": "https://localhost:8080/"
        },
        "id": "CdIWuz8Un8Xg",
        "outputId": "24833b48-c5d7-424d-bd7d-19660c6f4778"
      },
      "execution_count": 6,
      "outputs": [
        {
          "output_type": "execute_result",
          "data": {
            "text/plain": [
              "0.0    11375\n",
              "1.0     1153\n",
              "Name: target_class, dtype: int64"
            ]
          },
          "metadata": {},
          "execution_count": 6
        }
      ]
    },
    {
      "cell_type": "markdown",
      "source": [
        "Заполняем Nan средними значениями колонки"
      ],
      "metadata": {
        "id": "6ztiJFWrfxHQ"
      }
    },
    {
      "cell_type": "code",
      "source": [
        "for col in df:\n",
        "    col_median=df[col].median()\n",
        "    df[col].fillna(col_median, inplace=True)\n"
      ],
      "metadata": {
        "id": "EbnYhr1bpTfT"
      },
      "execution_count": 7,
      "outputs": []
    },
    {
      "cell_type": "markdown",
      "source": [
        "Разбиваем данные на тренировочный и тестовый сет. Смотрим размеры"
      ],
      "metadata": {
        "id": "UMTRvhasf33E"
      }
    },
    {
      "cell_type": "code",
      "source": [
        "X_train = np.array(df.drop('target_class', 1))\n",
        "y_train = np.array(df['target_class'])\n",
        "\n",
        "from sklearn.model_selection import train_test_split\n",
        "\n",
        "X_train, X_test, y_train, y_test = train_test_split(X_train, y_train, test_size=0.2)\n",
        "\n",
        "print('X_train.shape', X_train.shape)\n",
        "print('y_train.shape', y_train.shape)\n",
        "print('X_test.shape', X_test.shape)"
      ],
      "metadata": {
        "colab": {
          "base_uri": "https://localhost:8080/"
        },
        "id": "M41sZ4iOmymI",
        "outputId": "cbe1af0c-ec38-49a4-e5c7-55837fc7f20a"
      },
      "execution_count": 8,
      "outputs": [
        {
          "output_type": "stream",
          "name": "stderr",
          "text": [
            "<ipython-input-8-11c8d200c8e6>:1: FutureWarning: In a future version of pandas all arguments of DataFrame.drop except for the argument 'labels' will be keyword-only.\n",
            "  X_train = np.array(df.drop('target_class', 1))\n"
          ]
        },
        {
          "output_type": "stream",
          "name": "stdout",
          "text": [
            "X_train.shape (10022, 8)\n",
            "y_train.shape (10022,)\n",
            "X_test.shape (2506, 8)\n"
          ]
        }
      ]
    },
    {
      "cell_type": "markdown",
      "source": [
        "Стандартизируем значения для более точных результатов нашей сети"
      ],
      "metadata": {
        "id": "qqB5KsgegIh5"
      }
    },
    {
      "cell_type": "code",
      "source": [
        "from sklearn.preprocessing import StandardScaler\n",
        "\n",
        "scaler = StandardScaler().fit(X_train)"
      ],
      "metadata": {
        "id": "_SbyhrZ5myoi"
      },
      "execution_count": 10,
      "outputs": []
    },
    {
      "cell_type": "code",
      "source": [
        "scaler.mean_"
      ],
      "metadata": {
        "colab": {
          "base_uri": "https://localhost:8080/"
        },
        "id": "QNcexKgMmyrM",
        "outputId": "e01161dd-c5cf-4e6f-eb95-d9ec3ad89b96"
      },
      "execution_count": 11,
      "outputs": [
        {
          "output_type": "execute_result",
          "data": {
            "text/plain": [
              "array([110.95976196,  46.53031477,   0.44081499,   1.7580647 ,\n",
              "        12.59939529,  25.57452906,   8.32703603, 103.95353806])"
            ]
          },
          "metadata": {},
          "execution_count": 11
        }
      ]
    },
    {
      "cell_type": "markdown",
      "source": [
        "Посмотрим на полученные значения"
      ],
      "metadata": {
        "id": "j43x0ehtgRtG"
      }
    },
    {
      "cell_type": "code",
      "source": [
        "X_train_scaled = pd.DataFrame(scaler.transform(X_train), columns = colu[:-1])\n",
        "X_train_scaled.head()"
      ],
      "metadata": {
        "colab": {
          "base_uri": "https://localhost:8080/",
          "height": 270
        },
        "id": "RwHTjsEKmytf",
        "outputId": "7ae8eac6-16ba-48e0-cbf0-a922b04b9347"
      },
      "execution_count": 12,
      "outputs": [
        {
          "output_type": "execute_result",
          "data": {
            "text/plain": [
              "    mean_ip  standard_ip  excess_ip  skewness_ip  mean_DM_SNR  \\\n",
              "0  0.777427     1.252755  -0.384447    -0.363570    -0.253497   \n",
              "1 -0.006671    -0.042240  -0.291118    -0.282506    -0.388553   \n",
              "2 -3.901822    -1.302600   5.058185     4.416595     3.987484   \n",
              "3  0.029053     1.212110  -0.221012    -0.365065    -0.339909   \n",
              "4 -0.479634    -0.383466  -0.221012    -0.143660    -0.342408   \n",
              "\n",
              "   standard_DM_SNR  exces_DM_SNR  skewness_DM_SNR  \n",
              "0        -0.124706     -0.547333        -0.603402  \n",
              "1        -0.796608      1.472948         1.830747  \n",
              "2         2.057828     -1.846286        -1.011349  \n",
              "3        -0.305693      0.097618        -0.199844  \n",
              "4        -0.589745      0.055149        -0.031298  "
            ],
            "text/html": [
              "\n",
              "\n",
              "  <div id=\"df-afc84232-c4e6-4f5d-a731-7ce9af6a419c\">\n",
              "    <div class=\"colab-df-container\">\n",
              "      <div>\n",
              "<style scoped>\n",
              "    .dataframe tbody tr th:only-of-type {\n",
              "        vertical-align: middle;\n",
              "    }\n",
              "\n",
              "    .dataframe tbody tr th {\n",
              "        vertical-align: top;\n",
              "    }\n",
              "\n",
              "    .dataframe thead th {\n",
              "        text-align: right;\n",
              "    }\n",
              "</style>\n",
              "<table border=\"1\" class=\"dataframe\">\n",
              "  <thead>\n",
              "    <tr style=\"text-align: right;\">\n",
              "      <th></th>\n",
              "      <th>mean_ip</th>\n",
              "      <th>standard_ip</th>\n",
              "      <th>excess_ip</th>\n",
              "      <th>skewness_ip</th>\n",
              "      <th>mean_DM_SNR</th>\n",
              "      <th>standard_DM_SNR</th>\n",
              "      <th>exces_DM_SNR</th>\n",
              "      <th>skewness_DM_SNR</th>\n",
              "    </tr>\n",
              "  </thead>\n",
              "  <tbody>\n",
              "    <tr>\n",
              "      <th>0</th>\n",
              "      <td>0.777427</td>\n",
              "      <td>1.252755</td>\n",
              "      <td>-0.384447</td>\n",
              "      <td>-0.363570</td>\n",
              "      <td>-0.253497</td>\n",
              "      <td>-0.124706</td>\n",
              "      <td>-0.547333</td>\n",
              "      <td>-0.603402</td>\n",
              "    </tr>\n",
              "    <tr>\n",
              "      <th>1</th>\n",
              "      <td>-0.006671</td>\n",
              "      <td>-0.042240</td>\n",
              "      <td>-0.291118</td>\n",
              "      <td>-0.282506</td>\n",
              "      <td>-0.388553</td>\n",
              "      <td>-0.796608</td>\n",
              "      <td>1.472948</td>\n",
              "      <td>1.830747</td>\n",
              "    </tr>\n",
              "    <tr>\n",
              "      <th>2</th>\n",
              "      <td>-3.901822</td>\n",
              "      <td>-1.302600</td>\n",
              "      <td>5.058185</td>\n",
              "      <td>4.416595</td>\n",
              "      <td>3.987484</td>\n",
              "      <td>2.057828</td>\n",
              "      <td>-1.846286</td>\n",
              "      <td>-1.011349</td>\n",
              "    </tr>\n",
              "    <tr>\n",
              "      <th>3</th>\n",
              "      <td>0.029053</td>\n",
              "      <td>1.212110</td>\n",
              "      <td>-0.221012</td>\n",
              "      <td>-0.365065</td>\n",
              "      <td>-0.339909</td>\n",
              "      <td>-0.305693</td>\n",
              "      <td>0.097618</td>\n",
              "      <td>-0.199844</td>\n",
              "    </tr>\n",
              "    <tr>\n",
              "      <th>4</th>\n",
              "      <td>-0.479634</td>\n",
              "      <td>-0.383466</td>\n",
              "      <td>-0.221012</td>\n",
              "      <td>-0.143660</td>\n",
              "      <td>-0.342408</td>\n",
              "      <td>-0.589745</td>\n",
              "      <td>0.055149</td>\n",
              "      <td>-0.031298</td>\n",
              "    </tr>\n",
              "  </tbody>\n",
              "</table>\n",
              "</div>\n",
              "      <button class=\"colab-df-convert\" onclick=\"convertToInteractive('df-afc84232-c4e6-4f5d-a731-7ce9af6a419c')\"\n",
              "              title=\"Convert this dataframe to an interactive table.\"\n",
              "              style=\"display:none;\">\n",
              "\n",
              "  <svg xmlns=\"http://www.w3.org/2000/svg\" height=\"24px\"viewBox=\"0 0 24 24\"\n",
              "       width=\"24px\">\n",
              "    <path d=\"M0 0h24v24H0V0z\" fill=\"none\"/>\n",
              "    <path d=\"M18.56 5.44l.94 2.06.94-2.06 2.06-.94-2.06-.94-.94-2.06-.94 2.06-2.06.94zm-11 1L8.5 8.5l.94-2.06 2.06-.94-2.06-.94L8.5 2.5l-.94 2.06-2.06.94zm10 10l.94 2.06.94-2.06 2.06-.94-2.06-.94-.94-2.06-.94 2.06-2.06.94z\"/><path d=\"M17.41 7.96l-1.37-1.37c-.4-.4-.92-.59-1.43-.59-.52 0-1.04.2-1.43.59L10.3 9.45l-7.72 7.72c-.78.78-.78 2.05 0 2.83L4 21.41c.39.39.9.59 1.41.59.51 0 1.02-.2 1.41-.59l7.78-7.78 2.81-2.81c.8-.78.8-2.07 0-2.86zM5.41 20L4 18.59l7.72-7.72 1.47 1.35L5.41 20z\"/>\n",
              "  </svg>\n",
              "      </button>\n",
              "\n",
              "\n",
              "\n",
              "    <div id=\"df-3f9ada08-04d0-431a-8aa9-b4d3f2b04131\">\n",
              "      <button class=\"colab-df-quickchart\" onclick=\"quickchart('df-3f9ada08-04d0-431a-8aa9-b4d3f2b04131')\"\n",
              "              title=\"Suggest charts.\"\n",
              "              style=\"display:none;\">\n",
              "\n",
              "<svg xmlns=\"http://www.w3.org/2000/svg\" height=\"24px\"viewBox=\"0 0 24 24\"\n",
              "     width=\"24px\">\n",
              "    <g>\n",
              "        <path d=\"M19 3H5c-1.1 0-2 .9-2 2v14c0 1.1.9 2 2 2h14c1.1 0 2-.9 2-2V5c0-1.1-.9-2-2-2zM9 17H7v-7h2v7zm4 0h-2V7h2v10zm4 0h-2v-4h2v4z\"/>\n",
              "    </g>\n",
              "</svg>\n",
              "      </button>\n",
              "    </div>\n",
              "\n",
              "<style>\n",
              "  .colab-df-quickchart {\n",
              "    background-color: #E8F0FE;\n",
              "    border: none;\n",
              "    border-radius: 50%;\n",
              "    cursor: pointer;\n",
              "    display: none;\n",
              "    fill: #1967D2;\n",
              "    height: 32px;\n",
              "    padding: 0 0 0 0;\n",
              "    width: 32px;\n",
              "  }\n",
              "\n",
              "  .colab-df-quickchart:hover {\n",
              "    background-color: #E2EBFA;\n",
              "    box-shadow: 0px 1px 2px rgba(60, 64, 67, 0.3), 0px 1px 3px 1px rgba(60, 64, 67, 0.15);\n",
              "    fill: #174EA6;\n",
              "  }\n",
              "\n",
              "  [theme=dark] .colab-df-quickchart {\n",
              "    background-color: #3B4455;\n",
              "    fill: #D2E3FC;\n",
              "  }\n",
              "\n",
              "  [theme=dark] .colab-df-quickchart:hover {\n",
              "    background-color: #434B5C;\n",
              "    box-shadow: 0px 1px 3px 1px rgba(0, 0, 0, 0.15);\n",
              "    filter: drop-shadow(0px 1px 2px rgba(0, 0, 0, 0.3));\n",
              "    fill: #FFFFFF;\n",
              "  }\n",
              "</style>\n",
              "\n",
              "    <script>\n",
              "      async function quickchart(key) {\n",
              "        const containerElement = document.querySelector('#' + key);\n",
              "        const charts = await google.colab.kernel.invokeFunction(\n",
              "            'suggestCharts', [key], {});\n",
              "      }\n",
              "    </script>\n",
              "\n",
              "      <script>\n",
              "\n",
              "function displayQuickchartButton(domScope) {\n",
              "  let quickchartButtonEl =\n",
              "    domScope.querySelector('#df-3f9ada08-04d0-431a-8aa9-b4d3f2b04131 button.colab-df-quickchart');\n",
              "  quickchartButtonEl.style.display =\n",
              "    google.colab.kernel.accessAllowed ? 'block' : 'none';\n",
              "}\n",
              "\n",
              "        displayQuickchartButton(document);\n",
              "      </script>\n",
              "      <style>\n",
              "    .colab-df-container {\n",
              "      display:flex;\n",
              "      flex-wrap:wrap;\n",
              "      gap: 12px;\n",
              "    }\n",
              "\n",
              "    .colab-df-convert {\n",
              "      background-color: #E8F0FE;\n",
              "      border: none;\n",
              "      border-radius: 50%;\n",
              "      cursor: pointer;\n",
              "      display: none;\n",
              "      fill: #1967D2;\n",
              "      height: 32px;\n",
              "      padding: 0 0 0 0;\n",
              "      width: 32px;\n",
              "    }\n",
              "\n",
              "    .colab-df-convert:hover {\n",
              "      background-color: #E2EBFA;\n",
              "      box-shadow: 0px 1px 2px rgba(60, 64, 67, 0.3), 0px 1px 3px 1px rgba(60, 64, 67, 0.15);\n",
              "      fill: #174EA6;\n",
              "    }\n",
              "\n",
              "    [theme=dark] .colab-df-convert {\n",
              "      background-color: #3B4455;\n",
              "      fill: #D2E3FC;\n",
              "    }\n",
              "\n",
              "    [theme=dark] .colab-df-convert:hover {\n",
              "      background-color: #434B5C;\n",
              "      box-shadow: 0px 1px 3px 1px rgba(0, 0, 0, 0.15);\n",
              "      filter: drop-shadow(0px 1px 2px rgba(0, 0, 0, 0.3));\n",
              "      fill: #FFFFFF;\n",
              "    }\n",
              "  </style>\n",
              "\n",
              "      <script>\n",
              "        const buttonEl =\n",
              "          document.querySelector('#df-afc84232-c4e6-4f5d-a731-7ce9af6a419c button.colab-df-convert');\n",
              "        buttonEl.style.display =\n",
              "          google.colab.kernel.accessAllowed ? 'block' : 'none';\n",
              "\n",
              "        async function convertToInteractive(key) {\n",
              "          const element = document.querySelector('#df-afc84232-c4e6-4f5d-a731-7ce9af6a419c');\n",
              "          const dataTable =\n",
              "            await google.colab.kernel.invokeFunction('convertToInteractive',\n",
              "                                                     [key], {});\n",
              "          if (!dataTable) return;\n",
              "\n",
              "          const docLinkHtml = 'Like what you see? Visit the ' +\n",
              "            '<a target=\"_blank\" href=https://colab.research.google.com/notebooks/data_table.ipynb>data table notebook</a>'\n",
              "            + ' to learn more about interactive tables.';\n",
              "          element.innerHTML = '';\n",
              "          dataTable['output_type'] = 'display_data';\n",
              "          await google.colab.output.renderOutput(dataTable, element);\n",
              "          const docLink = document.createElement('div');\n",
              "          docLink.innerHTML = docLinkHtml;\n",
              "          element.appendChild(docLink);\n",
              "        }\n",
              "      </script>\n",
              "    </div>\n",
              "  </div>\n"
            ]
          },
          "metadata": {},
          "execution_count": 12
        }
      ]
    },
    {
      "cell_type": "code",
      "source": [
        "X_test_scaled = pd.DataFrame(scaler.transform(X_test), columns = colu[:-1])\n",
        "X_test_scaled.head()"
      ],
      "metadata": {
        "colab": {
          "base_uri": "https://localhost:8080/",
          "height": 270
        },
        "id": "nxyPV733mywO",
        "outputId": "aad06008-d657-4d35-83ee-ac15bb496dfd"
      },
      "execution_count": 13,
      "outputs": [
        {
          "output_type": "execute_result",
          "data": {
            "text/plain": [
              "    mean_ip  standard_ip  excess_ip  skewness_ip  mean_DM_SNR  \\\n",
              "0 -0.292464    -0.054900  -0.132145    -0.185651    -0.362825   \n",
              "1  0.320647     0.384554  -0.403705    -0.342538    -0.332895   \n",
              "2 -0.085448     0.412423   0.031667    -0.274524    -0.344736   \n",
              "3  0.352097     0.671555  -0.520177    -0.339816     0.346191   \n",
              "4  0.849792     1.227248  -0.536916    -0.371473    -0.359304   \n",
              "\n",
              "   standard_DM_SNR  exces_DM_SNR  skewness_DM_SNR  \n",
              "0        -0.593904      0.450960         0.247148  \n",
              "1        -0.342743      0.056415        -0.208907  \n",
              "2        -0.470153      0.260952         0.046600  \n",
              "3         1.987646     -1.267223        -0.950953  \n",
              "4        -0.499634      0.603009         0.298874  "
            ],
            "text/html": [
              "\n",
              "\n",
              "  <div id=\"df-61cdf9a3-8ddd-4f1f-85e0-f42dbcc6ba0f\">\n",
              "    <div class=\"colab-df-container\">\n",
              "      <div>\n",
              "<style scoped>\n",
              "    .dataframe tbody tr th:only-of-type {\n",
              "        vertical-align: middle;\n",
              "    }\n",
              "\n",
              "    .dataframe tbody tr th {\n",
              "        vertical-align: top;\n",
              "    }\n",
              "\n",
              "    .dataframe thead th {\n",
              "        text-align: right;\n",
              "    }\n",
              "</style>\n",
              "<table border=\"1\" class=\"dataframe\">\n",
              "  <thead>\n",
              "    <tr style=\"text-align: right;\">\n",
              "      <th></th>\n",
              "      <th>mean_ip</th>\n",
              "      <th>standard_ip</th>\n",
              "      <th>excess_ip</th>\n",
              "      <th>skewness_ip</th>\n",
              "      <th>mean_DM_SNR</th>\n",
              "      <th>standard_DM_SNR</th>\n",
              "      <th>exces_DM_SNR</th>\n",
              "      <th>skewness_DM_SNR</th>\n",
              "    </tr>\n",
              "  </thead>\n",
              "  <tbody>\n",
              "    <tr>\n",
              "      <th>0</th>\n",
              "      <td>-0.292464</td>\n",
              "      <td>-0.054900</td>\n",
              "      <td>-0.132145</td>\n",
              "      <td>-0.185651</td>\n",
              "      <td>-0.362825</td>\n",
              "      <td>-0.593904</td>\n",
              "      <td>0.450960</td>\n",
              "      <td>0.247148</td>\n",
              "    </tr>\n",
              "    <tr>\n",
              "      <th>1</th>\n",
              "      <td>0.320647</td>\n",
              "      <td>0.384554</td>\n",
              "      <td>-0.403705</td>\n",
              "      <td>-0.342538</td>\n",
              "      <td>-0.332895</td>\n",
              "      <td>-0.342743</td>\n",
              "      <td>0.056415</td>\n",
              "      <td>-0.208907</td>\n",
              "    </tr>\n",
              "    <tr>\n",
              "      <th>2</th>\n",
              "      <td>-0.085448</td>\n",
              "      <td>0.412423</td>\n",
              "      <td>0.031667</td>\n",
              "      <td>-0.274524</td>\n",
              "      <td>-0.344736</td>\n",
              "      <td>-0.470153</td>\n",
              "      <td>0.260952</td>\n",
              "      <td>0.046600</td>\n",
              "    </tr>\n",
              "    <tr>\n",
              "      <th>3</th>\n",
              "      <td>0.352097</td>\n",
              "      <td>0.671555</td>\n",
              "      <td>-0.520177</td>\n",
              "      <td>-0.339816</td>\n",
              "      <td>0.346191</td>\n",
              "      <td>1.987646</td>\n",
              "      <td>-1.267223</td>\n",
              "      <td>-0.950953</td>\n",
              "    </tr>\n",
              "    <tr>\n",
              "      <th>4</th>\n",
              "      <td>0.849792</td>\n",
              "      <td>1.227248</td>\n",
              "      <td>-0.536916</td>\n",
              "      <td>-0.371473</td>\n",
              "      <td>-0.359304</td>\n",
              "      <td>-0.499634</td>\n",
              "      <td>0.603009</td>\n",
              "      <td>0.298874</td>\n",
              "    </tr>\n",
              "  </tbody>\n",
              "</table>\n",
              "</div>\n",
              "      <button class=\"colab-df-convert\" onclick=\"convertToInteractive('df-61cdf9a3-8ddd-4f1f-85e0-f42dbcc6ba0f')\"\n",
              "              title=\"Convert this dataframe to an interactive table.\"\n",
              "              style=\"display:none;\">\n",
              "\n",
              "  <svg xmlns=\"http://www.w3.org/2000/svg\" height=\"24px\"viewBox=\"0 0 24 24\"\n",
              "       width=\"24px\">\n",
              "    <path d=\"M0 0h24v24H0V0z\" fill=\"none\"/>\n",
              "    <path d=\"M18.56 5.44l.94 2.06.94-2.06 2.06-.94-2.06-.94-.94-2.06-.94 2.06-2.06.94zm-11 1L8.5 8.5l.94-2.06 2.06-.94-2.06-.94L8.5 2.5l-.94 2.06-2.06.94zm10 10l.94 2.06.94-2.06 2.06-.94-2.06-.94-.94-2.06-.94 2.06-2.06.94z\"/><path d=\"M17.41 7.96l-1.37-1.37c-.4-.4-.92-.59-1.43-.59-.52 0-1.04.2-1.43.59L10.3 9.45l-7.72 7.72c-.78.78-.78 2.05 0 2.83L4 21.41c.39.39.9.59 1.41.59.51 0 1.02-.2 1.41-.59l7.78-7.78 2.81-2.81c.8-.78.8-2.07 0-2.86zM5.41 20L4 18.59l7.72-7.72 1.47 1.35L5.41 20z\"/>\n",
              "  </svg>\n",
              "      </button>\n",
              "\n",
              "\n",
              "\n",
              "    <div id=\"df-5aa9cf1b-30b0-4928-9bcb-bc5c71bf810b\">\n",
              "      <button class=\"colab-df-quickchart\" onclick=\"quickchart('df-5aa9cf1b-30b0-4928-9bcb-bc5c71bf810b')\"\n",
              "              title=\"Suggest charts.\"\n",
              "              style=\"display:none;\">\n",
              "\n",
              "<svg xmlns=\"http://www.w3.org/2000/svg\" height=\"24px\"viewBox=\"0 0 24 24\"\n",
              "     width=\"24px\">\n",
              "    <g>\n",
              "        <path d=\"M19 3H5c-1.1 0-2 .9-2 2v14c0 1.1.9 2 2 2h14c1.1 0 2-.9 2-2V5c0-1.1-.9-2-2-2zM9 17H7v-7h2v7zm4 0h-2V7h2v10zm4 0h-2v-4h2v4z\"/>\n",
              "    </g>\n",
              "</svg>\n",
              "      </button>\n",
              "    </div>\n",
              "\n",
              "<style>\n",
              "  .colab-df-quickchart {\n",
              "    background-color: #E8F0FE;\n",
              "    border: none;\n",
              "    border-radius: 50%;\n",
              "    cursor: pointer;\n",
              "    display: none;\n",
              "    fill: #1967D2;\n",
              "    height: 32px;\n",
              "    padding: 0 0 0 0;\n",
              "    width: 32px;\n",
              "  }\n",
              "\n",
              "  .colab-df-quickchart:hover {\n",
              "    background-color: #E2EBFA;\n",
              "    box-shadow: 0px 1px 2px rgba(60, 64, 67, 0.3), 0px 1px 3px 1px rgba(60, 64, 67, 0.15);\n",
              "    fill: #174EA6;\n",
              "  }\n",
              "\n",
              "  [theme=dark] .colab-df-quickchart {\n",
              "    background-color: #3B4455;\n",
              "    fill: #D2E3FC;\n",
              "  }\n",
              "\n",
              "  [theme=dark] .colab-df-quickchart:hover {\n",
              "    background-color: #434B5C;\n",
              "    box-shadow: 0px 1px 3px 1px rgba(0, 0, 0, 0.15);\n",
              "    filter: drop-shadow(0px 1px 2px rgba(0, 0, 0, 0.3));\n",
              "    fill: #FFFFFF;\n",
              "  }\n",
              "</style>\n",
              "\n",
              "    <script>\n",
              "      async function quickchart(key) {\n",
              "        const containerElement = document.querySelector('#' + key);\n",
              "        const charts = await google.colab.kernel.invokeFunction(\n",
              "            'suggestCharts', [key], {});\n",
              "      }\n",
              "    </script>\n",
              "\n",
              "      <script>\n",
              "\n",
              "function displayQuickchartButton(domScope) {\n",
              "  let quickchartButtonEl =\n",
              "    domScope.querySelector('#df-5aa9cf1b-30b0-4928-9bcb-bc5c71bf810b button.colab-df-quickchart');\n",
              "  quickchartButtonEl.style.display =\n",
              "    google.colab.kernel.accessAllowed ? 'block' : 'none';\n",
              "}\n",
              "\n",
              "        displayQuickchartButton(document);\n",
              "      </script>\n",
              "      <style>\n",
              "    .colab-df-container {\n",
              "      display:flex;\n",
              "      flex-wrap:wrap;\n",
              "      gap: 12px;\n",
              "    }\n",
              "\n",
              "    .colab-df-convert {\n",
              "      background-color: #E8F0FE;\n",
              "      border: none;\n",
              "      border-radius: 50%;\n",
              "      cursor: pointer;\n",
              "      display: none;\n",
              "      fill: #1967D2;\n",
              "      height: 32px;\n",
              "      padding: 0 0 0 0;\n",
              "      width: 32px;\n",
              "    }\n",
              "\n",
              "    .colab-df-convert:hover {\n",
              "      background-color: #E2EBFA;\n",
              "      box-shadow: 0px 1px 2px rgba(60, 64, 67, 0.3), 0px 1px 3px 1px rgba(60, 64, 67, 0.15);\n",
              "      fill: #174EA6;\n",
              "    }\n",
              "\n",
              "    [theme=dark] .colab-df-convert {\n",
              "      background-color: #3B4455;\n",
              "      fill: #D2E3FC;\n",
              "    }\n",
              "\n",
              "    [theme=dark] .colab-df-convert:hover {\n",
              "      background-color: #434B5C;\n",
              "      box-shadow: 0px 1px 3px 1px rgba(0, 0, 0, 0.15);\n",
              "      filter: drop-shadow(0px 1px 2px rgba(0, 0, 0, 0.3));\n",
              "      fill: #FFFFFF;\n",
              "    }\n",
              "  </style>\n",
              "\n",
              "      <script>\n",
              "        const buttonEl =\n",
              "          document.querySelector('#df-61cdf9a3-8ddd-4f1f-85e0-f42dbcc6ba0f button.colab-df-convert');\n",
              "        buttonEl.style.display =\n",
              "          google.colab.kernel.accessAllowed ? 'block' : 'none';\n",
              "\n",
              "        async function convertToInteractive(key) {\n",
              "          const element = document.querySelector('#df-61cdf9a3-8ddd-4f1f-85e0-f42dbcc6ba0f');\n",
              "          const dataTable =\n",
              "            await google.colab.kernel.invokeFunction('convertToInteractive',\n",
              "                                                     [key], {});\n",
              "          if (!dataTable) return;\n",
              "\n",
              "          const docLinkHtml = 'Like what you see? Visit the ' +\n",
              "            '<a target=\"_blank\" href=https://colab.research.google.com/notebooks/data_table.ipynb>data table notebook</a>'\n",
              "            + ' to learn more about interactive tables.';\n",
              "          element.innerHTML = '';\n",
              "          dataTable['output_type'] = 'display_data';\n",
              "          await google.colab.output.renderOutput(dataTable, element);\n",
              "          const docLink = document.createElement('div');\n",
              "          docLink.innerHTML = docLinkHtml;\n",
              "          element.appendChild(docLink);\n",
              "        }\n",
              "      </script>\n",
              "    </div>\n",
              "  </div>\n"
            ]
          },
          "metadata": {},
          "execution_count": 13
        }
      ]
    },
    {
      "cell_type": "markdown",
      "source": [
        "Создаем сеть на 65 шагов"
      ],
      "metadata": {
        "id": "6gMb2OMzgV6S"
      }
    },
    {
      "cell_type": "code",
      "source": [
        "%%time\n",
        "\n",
        "x0 = np.random.normal(size=(8, 2)) / np.sqrt(8)\n",
        "neurons = torch.tensor(x0, requires_grad=True)\n",
        "\n",
        "\n",
        "X = torch.tensor(X_train_scaled.values)\n",
        "y = torch.tensor(y_train, dtype=torch.long)\n",
        "\n",
        "optimizer = torch.optim.SGD(params=[neurons], lr=1)\n",
        "\n",
        "loss_history = []\n",
        "\n",
        "\n",
        "for i in range(65):\n",
        "\n",
        "    predictions = X @ neurons\n",
        "\n",
        "    loss = torch.nn.functional.cross_entropy(predictions, y)\n",
        "\n",
        "    optimizer.zero_grad()\n",
        "    loss.backward()\n",
        "\n",
        "    optimizer.step()\n",
        "\n",
        "    loss_history.append(loss.data.numpy())"
      ],
      "metadata": {
        "colab": {
          "base_uri": "https://localhost:8080/"
        },
        "id": "23k4NZY8myzr",
        "outputId": "c9a6c2ff-bff6-413e-f6f8-191f79db9876"
      },
      "execution_count": 14,
      "outputs": [
        {
          "output_type": "stream",
          "name": "stdout",
          "text": [
            "CPU times: user 145 ms, sys: 8.12 ms, total: 153 ms\n",
            "Wall time: 258 ms\n"
          ]
        }
      ]
    },
    {
      "cell_type": "code",
      "source": [
        "plt.title('История тренировки')\n",
        "plt.ylabel('Loss')\n",
        "plt.xlabel('step')\n",
        "plt.plot(loss_history);"
      ],
      "metadata": {
        "colab": {
          "base_uri": "https://localhost:8080/",
          "height": 472
        },
        "id": "RP-7k4yCmy1A",
        "outputId": "9880d618-e5e5-4b67-f3a1-7d602cc35bf1"
      },
      "execution_count": 15,
      "outputs": [
        {
          "output_type": "display_data",
          "data": {
            "text/plain": [
              "<Figure size 640x480 with 1 Axes>"
            ],
            "image/png": "[encoded data removed]"
          },
          "metadata": {}
        }
      ]
    },
    {
      "cell_type": "markdown",
      "source": [
        "Время обучения - 258 мс и в процессе всего обучения loss падает, что свидетельствует об отсутсвии переобучения"
      ],
      "metadata": {
        "id": "RelXbyz5gvf5"
      }
    },
    {
      "cell_type": "markdown",
      "source": [
        "Прогоняем через метрику и смотрим результат на тестовом сете"
      ],
      "metadata": {
        "id": "dVueUWb_g8bp"
      }
    },
    {
      "cell_type": "code",
      "source": [
        "def sigmoid(x):\n",
        "    ex = np.exp(x)\n",
        "    return ex / (1 + ex)\n",
        "\n",
        "digit_probabilities = sigmoid((X @ neurons).data.numpy())\n",
        "print('digit_probabilities.shape:', digit_probabilities.shape)\n",
        "\n",
        "\n",
        "from sklearn.metrics import f1_score\n",
        "\n",
        "\n",
        "predictions = np.argmax(digit_probabilities, axis=1)\n",
        "print('predictions.shape:', predictions.shape)\n",
        "print('\\nTrain f1:', f1_score(y_train, predictions, average='macro'))"
      ],
      "metadata": {
        "colab": {
          "base_uri": "https://localhost:8080/"
        },
        "id": "RkOBlZV8my21",
        "outputId": "7e321040-16cc-4f94-d698-ba793be2f507"
      },
      "execution_count": 24,
      "outputs": [
        {
          "output_type": "stream",
          "name": "stdout",
          "text": [
            "digit_probabilities.shape: (10022, 2)\n",
            "predictions.shape: (10022,)\n",
            "\n",
            "Train f1: 0.8661435209563064\n"
          ]
        }
      ]
    },
    {
      "cell_type": "markdown",
      "source": [
        "Пишем нейронную сеть на 200 нейронов и 2 слоя"
      ],
      "metadata": {
        "id": "L4fD8nrLhjXe"
      }
    },
    {
      "cell_type": "code",
      "source": [
        "import torch.nn.functional as F\n",
        "\n",
        "class MyFirstNN(nn.Module):\n",
        "    def __init__(self, n_hidden_neurons=200):\n",
        "        super().__init__()\n",
        "        # Здесь мы определяем обучаемые параметры модели\n",
        "        # Первый слой весов\n",
        "        # init_1 = np.random.normal(size=(784, n_hidden_neurons)) / np.sqrt(784) # гуглите \"xavier initialization\"\n",
        "        # self.neurons_layer1 = torch.tensor(init_1, requires_grad=True) # веса для первого слоя нейронов\n",
        "        # self.neurons_layer1 = nn.Parameter(self.neurons_layer1)\n",
        "        self.neurons_layer1 = nn.Linear(8, n_hidden_neurons)\n",
        "\n",
        "        # веса для второго слоя нейронов\n",
        "        # init_2 = np.random.normal(size=(n_hidden_neurons, 10)) / np.sqrt(n_hidden_neurons)\n",
        "        # self.neurons_layer2 = torch.tensor(init_2, requires_grad=True)\n",
        "        # self.neurons_layer2 = nn.Parameter(self.neurons_layer2)\n",
        "        self.neurons_layer2 = nn.Linear(n_hidden_neurons, 2)\n",
        "\n",
        "    def forward(self, x):\n",
        "        # Здесь мы делаем все вычисления\n",
        "        # Первый слой\n",
        "        # h = x @ self.neurons_layer1\n",
        "        h = self.neurons_layer1(x)\n",
        "        # Функция активации скрытого слоя\n",
        "        # h = torch.relu(h)\n",
        "        h = F.relu(h)\n",
        "\n",
        "        # Выходной слой\n",
        "        # out = h @ self.neurons_layer2\n",
        "        out = self.neurons_layer2(h)\n",
        "        return out"
      ],
      "metadata": {
        "id": "JduRRd-etu3u"
      },
      "execution_count": 25,
      "outputs": []
    },
    {
      "cell_type": "markdown",
      "source": [
        "Накапливаем импульс во время спуска"
      ],
      "metadata": {
        "id": "mQtB8p8ahxRi"
      }
    },
    {
      "cell_type": "code",
      "source": [
        "import numpy as np\n",
        "\n",
        "model = MyFirstNN()\n",
        "\n",
        "optimizer = torch.optim.Adam(params=model.parameters(), lr=0.001)"
      ],
      "metadata": {
        "id": "_c2af0e4tu6Q"
      },
      "execution_count": 27,
      "outputs": []
    },
    {
      "cell_type": "code",
      "source": [
        "from tqdm import tqdm\n",
        "\n",
        "N_EPOCHS = 50\n",
        "\n",
        "# Конвертируем в торч тензор\n",
        "X_tr = torch.tensor(X_train_scaled.values, dtype=torch.float32)\n",
        "y_tr = torch.tensor(y_train, dtype=torch.long)\n",
        "X_dev = torch.tensor(X_test_scaled.values, dtype=torch.float32)\n",
        "y_dev = torch.tensor(y_test, dtype=torch.long)\n",
        "\n",
        "train_loss_history = []\n",
        "dev_loss_history = []\n",
        "\n",
        "# Пройдемся 50 эпох\n",
        "for i in tqdm(range(N_EPOCHS)):\n",
        "    # Прямой проход (предсказания)\n",
        "    predictions = model(X_tr)\n",
        "    # Функция потерь\n",
        "    loss = torch.nn.functional.cross_entropy(predictions, y_tr) # активация уже включена\n",
        "    # Градиенты\n",
        "    optimizer.zero_grad()\n",
        "    loss.backward()\n",
        "    # Шаг спуска\n",
        "    optimizer.step()\n",
        "    train_loss_history.append(loss.item())\n",
        "\n",
        "    # Валидируемся\n",
        "    if i % 10 == 0:\n",
        "        predictions = model(X_dev)\n",
        "        loss = torch.nn.functional.cross_entropy(predictions, y_dev)\n",
        "        dev_loss_history.append(loss.item())"
      ],
      "metadata": {
        "id": "naTSV001tu8u",
        "colab": {
          "base_uri": "https://localhost:8080/"
        },
        "outputId": "4a0f9a8b-0a59-4d34-a191-84e895f00636"
      },
      "execution_count": 28,
      "outputs": [
        {
          "output_type": "stream",
          "name": "stderr",
          "text": [
            "100%|██████████| 50/50 [00:00<00:00, 51.58it/s]\n"
          ]
        }
      ]
    },
    {
      "cell_type": "code",
      "source": [
        "plt.figure(figsize=(16, 8))\n",
        "plt.title('Training history')\n",
        "plt.ylabel('Loss')\n",
        "plt.xlabel('step')\n",
        "plt.plot(range(N_EPOCHS), train_loss_history, label='train loss')\n",
        "plt.plot(range(N_EPOCHS)[::10], dev_loss_history, label='dev loss')\n",
        "plt.legend();"
      ],
      "metadata": {
        "id": "hxTfd5IHtu_W",
        "colab": {
          "base_uri": "https://localhost:8080/",
          "height": 464
        },
        "outputId": "43182149-549b-4fb6-8f18-7959ee7e60b6"
      },
      "execution_count": 29,
      "outputs": [
        {
          "output_type": "display_data",
          "data": {
            "text/plain": [
              "<Figure size 1600x800 with 1 Axes>"
            ],
            "image/png": "[encoded data removed]"
          },
          "metadata": {}
        }
      ]
    },
    {
      "cell_type": "markdown",
      "source": [
        "Видно, что модель не переобучается, и на тестовых данных работает практически аналогично тренировочным"
      ],
      "metadata": {
        "id": "NQy6FVjciVYb"
      }
    },
    {
      "cell_type": "code",
      "source": [
        "# Метрики качества\n",
        "digit_probabilities = model(X_dev).detach().numpy()\n",
        "print('digit_probabilities.shape:', digit_probabilities.shape)\n",
        "# Нашли вероятности принадлежности семплов test-а\n",
        "\n",
        "from sklearn.metrics import classification_report\n",
        "\n",
        "# Округлили\n",
        "predictions = np.argmax(digit_probabilities, axis=1)\n",
        "print('predictions.shape:', predictions.shape)\n",
        "print('test results:')\n",
        "print(classification_report(y_dev.detach().cpu().numpy(), predictions))"
      ],
      "metadata": {
        "id": "bbjVhdtUtvB5",
        "colab": {
          "base_uri": "https://localhost:8080/"
        },
        "outputId": "9fd2ee49-2ee2-46ae-8d94-1205b00ec679"
      },
      "execution_count": 30,
      "outputs": [
        {
          "output_type": "stream",
          "name": "stdout",
          "text": [
            "digit_probabilities.shape: (2506, 2)\n",
            "predictions.shape: (2506,)\n",
            "test results:\n",
            "              precision    recall  f1-score   support\n",
            "\n",
            "           0       0.97      1.00      0.98      2267\n",
            "           1       0.96      0.73      0.83       239\n",
            "\n",
            "    accuracy                           0.97      2506\n",
            "   macro avg       0.97      0.86      0.91      2506\n",
            "weighted avg       0.97      0.97      0.97      2506\n",
            "\n"
          ]
        }
      ]
    },
    {
      "cell_type": "markdown",
      "source": [
        "Создаем вторую нейронную сеть, 200 нейронов, 4 слоя"
      ],
      "metadata": {
        "id": "nxBRCLd4iKbH"
      }
    },
    {
      "cell_type": "code",
      "source": [
        "from torch.nn import ReLU\n",
        "import torch.nn.functional as F\n",
        "\n",
        "class MySecondNN(nn.Module):\n",
        "    def __init__(self, n_hidden_neurons=200):\n",
        "        # super позволяеть наследовать методы модуля nn\n",
        "        super(MySecondNN,self).__init__()\n",
        "        # создаем линейный слой\n",
        "        self.linear1 = nn.Linear(8,2)\n",
        "        self.linear2 = nn.Linear(2,n_hidden_neurons)\n",
        "        self.linear3 = nn.Linear(n_hidden_neurons,n_hidden_neurons)\n",
        "        self.linear4 = nn.Linear(n_hidden_neurons,2)\n",
        "        self.ReLU = nn.ReLU(inplace=True)\n",
        "\n",
        "    def forward(self, x):\n",
        "        x = F.relu(self.linear1(x))\n",
        "        x = F.relu(self.linear2(x))\n",
        "        x = F.relu(self.linear3(x))\n",
        "        x = self.linear4(x)\n",
        "        return x\n",
        "\n",
        "import numpy as np\n",
        "\n",
        "model = MySecondNN()\n",
        "# инициализируем Adam для накопления импульса во время спуска\n",
        "optimizer = torch.optim.Adam(params=model.parameters(), lr=0.001)"
      ],
      "metadata": {
        "id": "fjdTQcRy6jtl"
      },
      "execution_count": 31,
      "outputs": []
    },
    {
      "cell_type": "code",
      "source": [
        "N_EPOCHS = 100\n",
        "\n",
        "# Конвертируем в торч тензор\n",
        "X_tr = torch.tensor(X_train_scaled.values, dtype=torch.float32)\n",
        "y_tr = torch.tensor(y_train, dtype=torch.long)\n",
        "X_dev = torch.tensor(X_test_scaled.values, dtype=torch.float32)\n",
        "y_dev = torch.tensor(y_test, dtype=torch.long)\n",
        "\n",
        "train_loss_history = []\n",
        "dev_loss_history = []\n",
        "ce = nn.CrossEntropyLoss()\n",
        "\n",
        "# Пройдемся 501 эпоху\n",
        "for i in tqdm(range(N_EPOCHS)):\n",
        "    # Прямой проход (предсказания)\n",
        "    predictions = model(X_tr)\n",
        "    # Функция потерь\n",
        "    loss = ce(predictions, y_tr) # активация уже включена\n",
        "    # Градиенты\n",
        "    optimizer.zero_grad()\n",
        "    loss.backward()\n",
        "    # Шаг спуска\n",
        "    optimizer.step()\n",
        "    train_loss_history.append(loss.item())\n",
        "\n",
        "    if i % 10 == 0:\n",
        "       predictions = model(X_dev)\n",
        "       loss = ce(predictions, y_dev)\n",
        "       dev_loss_history.append(loss.item())"
      ],
      "metadata": {
        "colab": {
          "base_uri": "https://localhost:8080/"
        },
        "id": "4rCD6QIc6jwc",
        "outputId": "86d51f5d-a50e-4fa9-eed9-2fcc6fb89ba3"
      },
      "execution_count": 32,
      "outputs": [
        {
          "output_type": "stream",
          "name": "stderr",
          "text": [
            "100%|██████████| 100/100 [00:06<00:00, 15.98it/s]\n"
          ]
        }
      ]
    },
    {
      "cell_type": "code",
      "source": [
        "plt.figure(figsize=(16, 8))\n",
        "plt.title('Training history')\n",
        "plt.ylabel('Loss')\n",
        "plt.xlabel('step')\n",
        "plt.plot(range(N_EPOCHS), train_loss_history, label='train loss')\n",
        "plt.plot(range(N_EPOCHS)[::10], dev_loss_history, label='dev loss')\n",
        "plt.legend();"
      ],
      "metadata": {
        "colab": {
          "base_uri": "https://localhost:8080/",
          "height": 738
        },
        "id": "8zLemFst6jy6",
        "outputId": "fa3590b0-222c-4697-d82a-7d4d4491d2b0"
      },
      "execution_count": 33,
      "outputs": [
        {
          "output_type": "display_data",
          "data": {
            "text/plain": [
              "<Figure size 1600x800 with 1 Axes>"
            ],
            "image/png": "[encoded data removed]"
          },
          "metadata": {}
        }
      ]
    },
    {
      "cell_type": "markdown",
      "source": [
        "Стремительное обучение идет до 40ой эпохи, тестовый сет идет синхронно с тренировочным. Переобучения не наблюдается"
      ],
      "metadata": {
        "id": "FNV1gU1viqdj"
      }
    },
    {
      "cell_type": "code",
      "source": [
        "digit_probabilities = model(X_dev).detach().numpy()\n",
        "print('digit_probabilities.shape:', digit_probabilities.shape)\n",
        "\n",
        "from sklearn.metrics import classification_report\n",
        "\n",
        "predictions = np.argmax(digit_probabilities, axis=1)\n",
        "print('predictions.shape:', predictions.shape)\n",
        "print('test results:')\n",
        "print(classification_report(y_dev.detach().cpu().numpy(), predictions))"
      ],
      "metadata": {
        "colab": {
          "base_uri": "https://localhost:8080/"
        },
        "id": "H-E-J8b36j1u",
        "outputId": "0a10e2d2-fbee-4e3f-8ff3-678fc914fbc3"
      },
      "execution_count": 34,
      "outputs": [
        {
          "output_type": "stream",
          "name": "stdout",
          "text": [
            "digit_probabilities.shape: (2506, 2)\n",
            "predictions.shape: (2506,)\n",
            "test results:\n",
            "              precision    recall  f1-score   support\n",
            "\n",
            "           0       0.98      0.99      0.99      2267\n",
            "           1       0.94      0.80      0.86       239\n",
            "\n",
            "    accuracy                           0.98      2506\n",
            "   macro avg       0.96      0.90      0.92      2506\n",
            "weighted avg       0.98      0.98      0.97      2506\n",
            "\n"
          ]
        }
      ]
    },
    {
      "cell_type": "markdown",
      "source": [
        "Создаем третью нейросеть."
      ],
      "metadata": {
        "id": "EJuGlKFDjLQr"
      }
    },
    {
      "cell_type": "code",
      "source": [
        "X_tr = torch.tensor(X_train_scaled.values, dtype=torch.float32)\n",
        "y_tr = torch.tensor(y_train, dtype=torch.long)\n",
        "X_dev = torch.tensor(X_test_scaled.values, dtype=torch.float32)\n",
        "y_dev = torch.tensor(y_test, dtype=torch.long)"
      ],
      "metadata": {
        "id": "Z7bVoLMs9F8T"
      },
      "execution_count": 66,
      "outputs": []
    },
    {
      "cell_type": "code",
      "source": [
        "X_dev.shape, y_dev.shape"
      ],
      "metadata": {
        "colab": {
          "base_uri": "https://localhost:8080/"
        },
        "id": "zigyCDkiMQg1",
        "outputId": "599eb0b6-1d7f-49fe-bb13-c3fb8646059b"
      },
      "execution_count": 67,
      "outputs": [
        {
          "output_type": "execute_result",
          "data": {
            "text/plain": [
              "(torch.Size([2506, 8]), torch.Size([2506]))"
            ]
          },
          "metadata": {},
          "execution_count": 67
        }
      ]
    },
    {
      "cell_type": "code",
      "source": [
        "import torch.nn as nn\n",
        "import torch.nn.functional as F\n",
        "from tqdm.notebook import tqdm\n",
        "from sklearn.metrics import accuracy_score\n",
        "from torch.utils.data import DataLoader, TensorDataset"
      ],
      "metadata": {
        "id": "IiITqNZ0Mn_P"
      },
      "execution_count": 137,
      "outputs": []
    },
    {
      "cell_type": "code",
      "source": [
        "def train(net, n_epoch=5, batch_size=32):\n",
        "\n",
        "    loss_fn = nn.CrossEntropyLoss()\n",
        "    learning_rate = 1e-3\n",
        "    optimizer = torch.optim.Adam(net.parameters(), lr=learning_rate)\n",
        "\n",
        "    best_accuracy = 0\n",
        "\n",
        "    train_dataset = TensorDataset(X_tr, y_tr)\n",
        "    train_loader = DataLoader(train_dataset, batch_size=batch_size, shuffle=True)\n",
        "\n",
        "    for epoch in range(n_epoch):\n",
        "\n",
        "        running_loss = 0.0\n",
        "\n",
        "        for i, batch in enumerate(train_loader):\n",
        "\n",
        "            X_batch, y_batch = batch\n",
        "\n",
        "            optimizer.zero_grad()\n",
        "\n",
        "            y_pred = net(X_batch)\n",
        "\n",
        "            loss = loss_fn(y_pred, y_batch)\n",
        "\n",
        "            loss.backward()\n",
        "\n",
        "            optimizer.step()\n",
        "\n",
        "            running_loss += loss.item()\n",
        "\n",
        "            if i % 100 == 99:\n",
        "                print('[%d, %5d] loss: %.3f' %\n",
        "                        (epoch + 1, i + 1, running_loss / 100))\n",
        "                running_loss = 0.0\n",
        "\n",
        "\n",
        "        with torch.no_grad():\n",
        "            net.eval()\n",
        "            accuracy = []\n",
        "            for i in range(len(X_dev)):\n",
        "                x, y = X_dev[i], y_dev[i]\n",
        "\n",
        "                y_pred = net(x)\n",
        "\n",
        "                _, y_pred_class = torch.max(y_pred, 0)\n",
        "\n",
        "                y_batch_np = y.item()\n",
        "                y_pred_class_np = y_pred_class.item()\n",
        "\n",
        "                accuracy.append(accuracy_score([y_batch_np], [y_pred_class_np]))\n",
        "\n",
        "                # y_pred = torch.sigmoid(y_pred).detach().numpy()\n",
        "                # y_pred_class = (y_pred >= 0.5).astype(int)\n",
        "\n",
        "\n",
        "                # accuracy.append(accuracy_score([y.numpy()], [y_pred_class]))\n",
        "\n",
        "            accuracy_1 = np.mean(np.array(accuracy))\n",
        "\n",
        "            if accuracy_1 > best_accuracy:\n",
        "                print('New best model with test acc:', accuracy_1)\n",
        "                torch.save(net.state_dict(), './best_model.pt')\n",
        "                best_accuracy = accuracy_1\n",
        "\n",
        "            net.train()\n",
        "\n",
        "    print('Обучение закончено')\n",
        "    return net"
      ],
      "metadata": {
        "id": "IEsMPEuZPedz"
      },
      "execution_count": 144,
      "outputs": []
    },
    {
      "cell_type": "code",
      "source": [
        "model = nn.Sequential(\n",
        "    nn.Linear(8, 64),\n",
        "    nn.ReLU(),\n",
        "    nn.Linear(64, 64),\n",
        "    nn.ReLU(),\n",
        "    nn.Linear(64, 64),\n",
        "    nn.ReLU(),\n",
        "    nn.Linear(64, 2)\n",
        ")"
      ],
      "metadata": {
        "id": "jcBOTUehPfUO"
      },
      "execution_count": 145,
      "outputs": []
    },
    {
      "cell_type": "code",
      "source": [
        "model = train(model)"
      ],
      "metadata": {
        "colab": {
          "base_uri": "https://localhost:8080/"
        },
        "id": "qpvu7WV0PfXp",
        "outputId": "4ab22cfc-01a4-43a3-ff3f-efb956b5a44a"
      },
      "execution_count": 146,
      "outputs": [
        {
          "output_type": "stream",
          "name": "stdout",
          "text": [
            "[1,   100] loss: 0.196\n",
            "[1,   200] loss: 0.104\n",
            "[1,   300] loss: 0.069\n",
            "New best model with test acc: 0.9804469273743017\n",
            "[2,   100] loss: 0.070\n",
            "[2,   200] loss: 0.068\n",
            "[2,   300] loss: 0.088\n",
            "[3,   100] loss: 0.065\n",
            "[3,   200] loss: 0.071\n",
            "[3,   300] loss: 0.086\n",
            "[4,   100] loss: 0.073\n",
            "[4,   200] loss: 0.078\n",
            "[4,   300] loss: 0.072\n",
            "[5,   100] loss: 0.072\n",
            "[5,   200] loss: 0.075\n",
            "[5,   300] loss: 0.064\n",
            "Обучение закончено\n"
          ]
        }
      ]
    },
    {
      "cell_type": "code",
      "source": [
        "digit_probabilities = model(X_dev).detach().numpy()\n",
        "\n",
        "print('digit_probabilities.shape:', digit_probabilities.shape)\n",
        "\n",
        "\n",
        "predictions = np.argmax(digit_probabilities, axis=1)\n",
        "print('predictions.shape:', predictions.shape)\n",
        "\n",
        "\n",
        "print('test results:')\n",
        "print(classification_report(y_dev.numpy(), predictions))"
      ],
      "metadata": {
        "colab": {
          "base_uri": "https://localhost:8080/"
        },
        "id": "zMCWgUrRsUZT",
        "outputId": "ddd1a504-d154-41e9-d503-d3d8c7e05538"
      },
      "execution_count": 147,
      "outputs": [
        {
          "output_type": "stream",
          "name": "stdout",
          "text": [
            "digit_probabilities.shape: (2506, 2)\n",
            "predictions.shape: (2506,)\n",
            "test results:\n",
            "              precision    recall  f1-score   support\n",
            "\n",
            "           0       0.98      1.00      0.99      2267\n",
            "           1       0.96      0.82      0.88       239\n",
            "\n",
            "    accuracy                           0.98      2506\n",
            "   macro avg       0.97      0.91      0.94      2506\n",
            "weighted avg       0.98      0.98      0.98      2506\n",
            "\n"
          ]
        }
      ]
    },
    {
      "cell_type": "markdown",
      "source": [
        "Получилась отличная(но не идеальная) нейросеть бинарной классификации, которая улавливает с 98% точностью класс \"0\" и 96% класс \"1\". F1-мера для класса \"1\" составляет 0.88, что говорит о том, что качество предсказаний для класса \"1\" немного ниже, чем для класса \"0\". Но это терпимо. Честно говоря, было сложно достичь даже таких результатов, так что я безумно рада, что recall вообще больше 0,5.\n"
      ],
      "metadata": {
        "id": "6EQ6aNAFvDpa"
      }
    },
    {
      "cell_type": "code",
      "source": [],
      "metadata": {
        "id": "Eoc3Qh9uvn3H"
      },
      "execution_count": null,
      "outputs": []
    }
  ]
}