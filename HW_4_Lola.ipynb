{
 "cells": [
  {
   "cell_type": "markdown",
   "metadata": {},
   "source": [
    "##### Задания не несут смысловой нагрузки для реальной жизни, они сделаны лишь для того, чтоб научить использовать Pandas"
   ]
  },
  {
   "cell_type": "markdown",
   "metadata": {},
   "source": [
    "This database contains 76 attributes, but all published experiments refer to using a subset of 14 of them. In particular, the Cleveland database is the only one that has been used by ML researchers to this date. The \"goal\" field refers to the presence of heart disease in the patient. It is integer valued from 0 (no presence) to 1."
   ]
  },
  {
   "cell_type": "markdown",
   "metadata": {},
   "source": [
    "https://www.kaggle.com/ronitf/heart-disease-uci"
   ]
  },
  {
   "cell_type": "markdown",
   "metadata": {},
   "source": [
    "___"
   ]
  },
  {
   "cell_type": "code",
   "execution_count": 1,
   "metadata": {},
   "outputs": [],
   "source": [
    "import pandas as pd\n",
    "import numpy as np"
   ]
  },
  {
   "cell_type": "code",
   "execution_count": 23,
   "metadata": {},
   "outputs": [
    {
     "data": {
      "text/html": [
       "<div>\n",
       "<style scoped>\n",
       "    .dataframe tbody tr th:only-of-type {\n",
       "        vertical-align: middle;\n",
       "    }\n",
       "\n",
       "    .dataframe tbody tr th {\n",
       "        vertical-align: top;\n",
       "    }\n",
       "\n",
       "    .dataframe thead th {\n",
       "        text-align: right;\n",
       "    }\n",
       "</style>\n",
       "<table border=\"1\" class=\"dataframe\">\n",
       "  <thead>\n",
       "    <tr style=\"text-align: right;\">\n",
       "      <th></th>\n",
       "      <th>age</th>\n",
       "      <th>sex</th>\n",
       "      <th>chest_pain_type</th>\n",
       "      <th>resting_blood_pressure</th>\n",
       "      <th>cholesterol</th>\n",
       "      <th>fasting_blood_sugar</th>\n",
       "      <th>rest_ecg</th>\n",
       "      <th>max_heart_rate_achieved</th>\n",
       "      <th>exercise_induced_angina</th>\n",
       "      <th>st_depression</th>\n",
       "      <th>st_slope</th>\n",
       "      <th>num_major_vessels</th>\n",
       "      <th>thalassemia</th>\n",
       "      <th>target</th>\n",
       "    </tr>\n",
       "  </thead>\n",
       "  <tbody>\n",
       "    <tr>\n",
       "      <th>0</th>\n",
       "      <td>63</td>\n",
       "      <td>male</td>\n",
       "      <td>non-anginal pain</td>\n",
       "      <td>145</td>\n",
       "      <td>233</td>\n",
       "      <td>greater than 120mg/ml</td>\n",
       "      <td>normal</td>\n",
       "      <td>150</td>\n",
       "      <td>no</td>\n",
       "      <td>2.3</td>\n",
       "      <td>upsloping</td>\n",
       "      <td>0</td>\n",
       "      <td>normal</td>\n",
       "      <td>1</td>\n",
       "    </tr>\n",
       "    <tr>\n",
       "      <th>1</th>\n",
       "      <td>37</td>\n",
       "      <td>male</td>\n",
       "      <td>atypical angina</td>\n",
       "      <td>130</td>\n",
       "      <td>250</td>\n",
       "      <td>lower than 120mg/ml</td>\n",
       "      <td>ST-T wave abnormality</td>\n",
       "      <td>187</td>\n",
       "      <td>no</td>\n",
       "      <td>3.5</td>\n",
       "      <td>upsloping</td>\n",
       "      <td>0</td>\n",
       "      <td>fixed defect</td>\n",
       "      <td>1</td>\n",
       "    </tr>\n",
       "    <tr>\n",
       "      <th>2</th>\n",
       "      <td>41</td>\n",
       "      <td>female</td>\n",
       "      <td>typical angina</td>\n",
       "      <td>130</td>\n",
       "      <td>204</td>\n",
       "      <td>lower than 120mg/ml</td>\n",
       "      <td>normal</td>\n",
       "      <td>172</td>\n",
       "      <td>no</td>\n",
       "      <td>1.4</td>\n",
       "      <td>flat</td>\n",
       "      <td>0</td>\n",
       "      <td>fixed defect</td>\n",
       "      <td>1</td>\n",
       "    </tr>\n",
       "    <tr>\n",
       "      <th>3</th>\n",
       "      <td>56</td>\n",
       "      <td>male</td>\n",
       "      <td>typical angina</td>\n",
       "      <td>120</td>\n",
       "      <td>236</td>\n",
       "      <td>lower than 120mg/ml</td>\n",
       "      <td>ST-T wave abnormality</td>\n",
       "      <td>178</td>\n",
       "      <td>no</td>\n",
       "      <td>0.8</td>\n",
       "      <td>flat</td>\n",
       "      <td>0</td>\n",
       "      <td>fixed defect</td>\n",
       "      <td>1</td>\n",
       "    </tr>\n",
       "    <tr>\n",
       "      <th>4</th>\n",
       "      <td>57</td>\n",
       "      <td>female</td>\n",
       "      <td>typical angina</td>\n",
       "      <td>120</td>\n",
       "      <td>354</td>\n",
       "      <td>lower than 120mg/ml</td>\n",
       "      <td>ST-T wave abnormality</td>\n",
       "      <td>163</td>\n",
       "      <td>yes</td>\n",
       "      <td>0.6</td>\n",
       "      <td>flat</td>\n",
       "      <td>0</td>\n",
       "      <td>fixed defect</td>\n",
       "      <td>1</td>\n",
       "    </tr>\n",
       "    <tr>\n",
       "      <th>...</th>\n",
       "      <td>...</td>\n",
       "      <td>...</td>\n",
       "      <td>...</td>\n",
       "      <td>...</td>\n",
       "      <td>...</td>\n",
       "      <td>...</td>\n",
       "      <td>...</td>\n",
       "      <td>...</td>\n",
       "      <td>...</td>\n",
       "      <td>...</td>\n",
       "      <td>...</td>\n",
       "      <td>...</td>\n",
       "      <td>...</td>\n",
       "      <td>...</td>\n",
       "    </tr>\n",
       "    <tr>\n",
       "      <th>298</th>\n",
       "      <td>57</td>\n",
       "      <td>female</td>\n",
       "      <td>typical angina</td>\n",
       "      <td>140</td>\n",
       "      <td>241</td>\n",
       "      <td>lower than 120mg/ml</td>\n",
       "      <td>ST-T wave abnormality</td>\n",
       "      <td>123</td>\n",
       "      <td>yes</td>\n",
       "      <td>0.2</td>\n",
       "      <td>upsloping</td>\n",
       "      <td>0</td>\n",
       "      <td>reversable defect</td>\n",
       "      <td>0</td>\n",
       "    </tr>\n",
       "    <tr>\n",
       "      <th>299</th>\n",
       "      <td>45</td>\n",
       "      <td>male</td>\n",
       "      <td>non-anginal pain</td>\n",
       "      <td>110</td>\n",
       "      <td>264</td>\n",
       "      <td>lower than 120mg/ml</td>\n",
       "      <td>ST-T wave abnormality</td>\n",
       "      <td>132</td>\n",
       "      <td>no</td>\n",
       "      <td>1.2</td>\n",
       "      <td>upsloping</td>\n",
       "      <td>0</td>\n",
       "      <td>reversable defect</td>\n",
       "      <td>0</td>\n",
       "    </tr>\n",
       "    <tr>\n",
       "      <th>300</th>\n",
       "      <td>68</td>\n",
       "      <td>male</td>\n",
       "      <td>typical angina</td>\n",
       "      <td>144</td>\n",
       "      <td>193</td>\n",
       "      <td>greater than 120mg/ml</td>\n",
       "      <td>ST-T wave abnormality</td>\n",
       "      <td>141</td>\n",
       "      <td>no</td>\n",
       "      <td>3.4</td>\n",
       "      <td>upsloping</td>\n",
       "      <td>2</td>\n",
       "      <td>reversable defect</td>\n",
       "      <td>0</td>\n",
       "    </tr>\n",
       "    <tr>\n",
       "      <th>301</th>\n",
       "      <td>57</td>\n",
       "      <td>male</td>\n",
       "      <td>typical angina</td>\n",
       "      <td>130</td>\n",
       "      <td>131</td>\n",
       "      <td>lower than 120mg/ml</td>\n",
       "      <td>ST-T wave abnormality</td>\n",
       "      <td>115</td>\n",
       "      <td>yes</td>\n",
       "      <td>1.2</td>\n",
       "      <td>upsloping</td>\n",
       "      <td>1</td>\n",
       "      <td>reversable defect</td>\n",
       "      <td>0</td>\n",
       "    </tr>\n",
       "    <tr>\n",
       "      <th>302</th>\n",
       "      <td>57</td>\n",
       "      <td>female</td>\n",
       "      <td>typical angina</td>\n",
       "      <td>130</td>\n",
       "      <td>236</td>\n",
       "      <td>lower than 120mg/ml</td>\n",
       "      <td>normal</td>\n",
       "      <td>174</td>\n",
       "      <td>no</td>\n",
       "      <td>0.0</td>\n",
       "      <td>upsloping</td>\n",
       "      <td>1</td>\n",
       "      <td>fixed defect</td>\n",
       "      <td>0</td>\n",
       "    </tr>\n",
       "  </tbody>\n",
       "</table>\n",
       "<p>303 rows × 14 columns</p>\n",
       "</div>"
      ],
      "text/plain": [
       "     age     sex   chest_pain_type  resting_blood_pressure  cholesterol  \\\n",
       "0     63    male  non-anginal pain                     145          233   \n",
       "1     37    male   atypical angina                     130          250   \n",
       "2     41  female    typical angina                     130          204   \n",
       "3     56    male    typical angina                     120          236   \n",
       "4     57  female    typical angina                     120          354   \n",
       "..   ...     ...               ...                     ...          ...   \n",
       "298   57  female    typical angina                     140          241   \n",
       "299   45    male  non-anginal pain                     110          264   \n",
       "300   68    male    typical angina                     144          193   \n",
       "301   57    male    typical angina                     130          131   \n",
       "302   57  female    typical angina                     130          236   \n",
       "\n",
       "       fasting_blood_sugar               rest_ecg  max_heart_rate_achieved  \\\n",
       "0    greater than 120mg/ml                 normal                      150   \n",
       "1      lower than 120mg/ml  ST-T wave abnormality                      187   \n",
       "2      lower than 120mg/ml                 normal                      172   \n",
       "3      lower than 120mg/ml  ST-T wave abnormality                      178   \n",
       "4      lower than 120mg/ml  ST-T wave abnormality                      163   \n",
       "..                     ...                    ...                      ...   \n",
       "298    lower than 120mg/ml  ST-T wave abnormality                      123   \n",
       "299    lower than 120mg/ml  ST-T wave abnormality                      132   \n",
       "300  greater than 120mg/ml  ST-T wave abnormality                      141   \n",
       "301    lower than 120mg/ml  ST-T wave abnormality                      115   \n",
       "302    lower than 120mg/ml                 normal                      174   \n",
       "\n",
       "    exercise_induced_angina  st_depression   st_slope  num_major_vessels  \\\n",
       "0                        no            2.3  upsloping                  0   \n",
       "1                        no            3.5  upsloping                  0   \n",
       "2                        no            1.4       flat                  0   \n",
       "3                        no            0.8       flat                  0   \n",
       "4                       yes            0.6       flat                  0   \n",
       "..                      ...            ...        ...                ...   \n",
       "298                     yes            0.2  upsloping                  0   \n",
       "299                      no            1.2  upsloping                  0   \n",
       "300                      no            3.4  upsloping                  2   \n",
       "301                     yes            1.2  upsloping                  1   \n",
       "302                      no            0.0  upsloping                  1   \n",
       "\n",
       "           thalassemia  target  \n",
       "0               normal       1  \n",
       "1         fixed defect       1  \n",
       "2         fixed defect       1  \n",
       "3         fixed defect       1  \n",
       "4         fixed defect       1  \n",
       "..                 ...     ...  \n",
       "298  reversable defect       0  \n",
       "299  reversable defect       0  \n",
       "300  reversable defect       0  \n",
       "301  reversable defect       0  \n",
       "302       fixed defect       0  \n",
       "\n",
       "[303 rows x 14 columns]"
      ]
     },
     "execution_count": 23,
     "metadata": {},
     "output_type": "execute_result"
    }
   ],
   "source": [
    "data = pd.read_csv(\"heart_pandas.csv\")\n",
    "data"
   ]
  },
  {
   "cell_type": "markdown",
   "metadata": {},
   "source": [
    "#### Описание признаков"
   ]
  },
  {
   "cell_type": "markdown",
   "metadata": {},
   "source": [
    "**age**: The person's age in years\n",
    "\n",
    "**sex**: The person's sex (1 = male, 0 = female)\n",
    "\n",
    "**cp**: The chest pain experienced (Value 1: typical angina, Value 2: atypical angina, Value 3: non-anginal pain, Value 4: asymptomatic)\n",
    "\n",
    "**trestbps**: The person's resting blood pressure (mm Hg on admission to the hospital)\n",
    "\n",
    "**chol**: The person's cholesterol measurement in mg/dl\n",
    "\n",
    "**fbs**: The person's fasting blood sugar (> 120 mg/dl, 1 = true; 0 = false)\n",
    "\n",
    "**restecg**: Resting electrocardiographic measurement (0 = normal, 1 = having ST-T wave abnormality, 2 = showing probable or definite left ventricular hypertrophy by Estes' criteria)\n",
    "\n",
    "**thalach**: The person's maximum heart rate achieved\n",
    "\n",
    "**exang**: Exercise induced angina (1 = yes; 0 = no)\n",
    "\n",
    "**oldpeak**: ST depression induced by exercise relative to rest ('ST' relates to positions on the ECG plot. See more here)\n",
    "\n",
    "**slope**: the slope of the peak exercise ST segment (Value 1: upsloping, Value 2: flat, Value 3: downsloping)\n",
    "\n",
    "**ca**: The number of major vessels (0-3)\n",
    "\n",
    "**thal**: A blood disorder called thalassemia (3 = normal; 6 = fixed defect; 7 = reversable defect)\n",
    "\n",
    "**target**: Heart disease (0 = no, 1 = yes)"
   ]
  },
  {
   "cell_type": "markdown",
   "metadata": {},
   "source": [
    "> 1. age \n",
    "> 2. sex \n",
    "> 3. chest pain type (4 values) \n",
    "> 4. resting blood pressure \n",
    "> 5. serum cholestoral in mg/dl \n",
    "> 6. fasting blood sugar > 120 mg/dl\n",
    "> 7. resting electrocardiographic results (values 0,1,2)\n",
    "> 8. maximum heart rate achieved \n",
    "> 9. exercise induced angina \n",
    "> 10. oldpeak = ST depression induced by exercise relative to rest \n",
    "> 11. the slope of the peak exercise ST segment \n",
    "> 12. number of major vessels (0-3) colored by flourosopy \n",
    "> 13. thal: 3 = normal; 6 = fixed defect; 7 = reversable defect"
   ]
  },
  {
   "cell_type": "markdown",
   "metadata": {},
   "source": [
    "___"
   ]
  },
  {
   "cell_type": "markdown",
   "metadata": {},
   "source": [
    "#### Сколько мужчин в датасете? Сколько женщен? (sex)"
   ]
  },
  {
   "cell_type": "code",
   "execution_count": 24,
   "metadata": {},
   "outputs": [
    {
     "data": {
      "text/plain": [
       "96"
      ]
     },
     "execution_count": 24,
     "metadata": {},
     "output_type": "execute_result"
    }
   ],
   "source": [
    "data.sex.value_counts().female"
   ]
  },
  {
   "cell_type": "markdown",
   "metadata": {},
   "source": [
    "#### Какой процент мужчин в датасете? (решите в одну строчку, не используя предыдущий результат. Не забудте знак процента) "
   ]
  },
  {
   "cell_type": "code",
   "execution_count": 25,
   "metadata": {},
   "outputs": [
    {
     "data": {
      "text/plain": [
       "'68.31683168316832%'"
      ]
     },
     "execution_count": 25,
     "metadata": {},
     "output_type": "execute_result"
    }
   ],
   "source": [
    "f'{data.sex.value_counts(normalize=True).male*100}%'"
   ]
  },
  {
   "cell_type": "markdown",
   "metadata": {},
   "source": [
    "#### Сколько мужчин имеют заболевание сердца? Сколько женщин имеют заболевание сердца?"
   ]
  },
  {
   "cell_type": "code",
   "execution_count": 50,
   "metadata": {},
   "outputs": [
    {
     "data": {
      "text/plain": [
       "'Мужчин с заболеванием сердца: 93, женщин: 72'"
      ]
     },
     "execution_count": 50,
     "metadata": {},
     "output_type": "execute_result"
    }
   ],
   "source": [
    "s_t = data[[\"sex\",\"target\"]]\n",
    "f'Мужчин с заболеванием сердца: {int(s_t[s_t[\"target\"]==1].value_counts().male)}, женщин: {int(s_t[s_t[\"target\"]==1].value_counts().female)}'\n"
   ]
  },
  {
   "cell_type": "markdown",
   "metadata": {},
   "source": [
    "**Какую долю, от общего числа пациентов, занимают мужчины не имеющие болезнь сердца?**"
   ]
  },
  {
   "cell_type": "code",
   "execution_count": 116,
   "metadata": {},
   "outputs": [
    {
     "data": {
      "text/plain": [
       "'Здоровых мужчин 0.5507246376811594 доля от всех мужчин'"
      ]
     },
     "execution_count": 116,
     "metadata": {},
     "output_type": "execute_result"
    }
   ],
   "source": [
    "healthy_men = 1-data[data.sex=='male'].target.mean()\n",
    "# s_t[s_t[\"sex\"]=='male'].mean()\n",
    "f'Здоровых мужчин {healthy_men} доля от всех мужчин'"
   ]
  },
  {
   "cell_type": "code",
   "execution_count": 165,
   "metadata": {},
   "outputs": [
    {
     "data": {
      "text/plain": [
       "'Доля мужчин без заболевания сердца от всех пациентов 0.37623762376237624'"
      ]
     },
     "execution_count": 165,
     "metadata": {},
     "output_type": "execute_result"
    }
   ],
   "source": [
    "hm = sum(data[data.sex=='male'].target==0)\n",
    "f'Доля мужчин без заболевания сердца от всех пациентов {hm/len(data)}'"
   ]
  },
  {
   "cell_type": "markdown",
   "metadata": {},
   "source": [
    "**Сколько лет самому молодому пациенту, страдающему болезнью сердца?**"
   ]
  },
  {
   "cell_type": "code",
   "execution_count": 175,
   "metadata": {},
   "outputs": [
    {
     "data": {
      "text/plain": [
       "29"
      ]
     },
     "execution_count": 175,
     "metadata": {},
     "output_type": "execute_result"
    }
   ],
   "source": [
    "data[data.target==1].age.min()"
   ]
  },
  {
   "cell_type": "markdown",
   "metadata": {},
   "source": [
    "**Сколько лет самому возастному пациенту, у которого нет проблем с сердцем?**"
   ]
  },
  {
   "cell_type": "code",
   "execution_count": 176,
   "metadata": {},
   "outputs": [
    {
     "data": {
      "text/plain": [
       "77"
      ]
     },
     "execution_count": 176,
     "metadata": {},
     "output_type": "execute_result"
    }
   ],
   "source": [
    "data[data.target==0].age.max()"
   ]
  },
  {
   "cell_type": "markdown",
   "metadata": {},
   "source": [
    "**Сколько лет самой молодой женщине, которая страдает болезнью сердца?**"
   ]
  },
  {
   "cell_type": "code",
   "execution_count": 449,
   "metadata": {
    "scrolled": true
   },
   "outputs": [
    {
     "data": {
      "text/plain": [
       "34"
      ]
     },
     "execution_count": 449,
     "metadata": {},
     "output_type": "execute_result"
    }
   ],
   "source": [
    "d3 = data[data['target']==1]\n",
    "d3[d3['sex']=='female'].age.min()\n"
   ]
  },
  {
   "cell_type": "markdown",
   "metadata": {},
   "source": [
    "**Какой средний возраст женщин?**"
   ]
  },
  {
   "cell_type": "code",
   "execution_count": 178,
   "metadata": {},
   "outputs": [
    {
     "data": {
      "text/plain": [
       "55.677083333333336"
      ]
     },
     "execution_count": 178,
     "metadata": {},
     "output_type": "execute_result"
    }
   ],
   "source": [
    "data[data.sex=='female'].age.mean()"
   ]
  },
  {
   "cell_type": "markdown",
   "metadata": {},
   "source": [
    "**Каковы средние значения и среднеквадратичные отклонения возраста тех, кто страдают болезнью сердца?**"
   ]
  },
  {
   "cell_type": "code",
   "execution_count": 197,
   "metadata": {},
   "outputs": [
    {
     "data": {
      "text/plain": [
       "mean    52.496970\n",
       "std      9.550651\n",
       "Name: age, dtype: float64"
      ]
     },
     "execution_count": 197,
     "metadata": {},
     "output_type": "execute_result"
    }
   ],
   "source": [
    "data[data.target==1].age.describe()[1:3]"
   ]
  },
  {
   "cell_type": "markdown",
   "metadata": {},
   "source": [
    "#### Правда ли, что люди не болеющие болезнью сердца имеют уровня холестерина меньше среднего? (chol) "
   ]
  },
  {
   "cell_type": "code",
   "execution_count": 214,
   "metadata": {},
   "outputs": [
    {
     "data": {
      "text/plain": [
       "False"
      ]
     },
     "execution_count": 214,
     "metadata": {},
     "output_type": "execute_result"
    }
   ],
   "source": [
    "#Находим среднее значение уровня холестерина\n",
    "mean_cholesterol = data[\"cholesterol\"].mean()\n",
    "#Сортируем на только здоровых людей и среди них сравниваем уровень холестерина со средним, и записываем в Series\n",
    "tf = data[data.target==0].cholesterol<=mean_cholesterol\n",
    "#Получаем самый часторезультирующий вариант, который и принимем за ответ\n",
    "tf.describe().top"
   ]
  },
  {
   "cell_type": "markdown",
   "metadata": {},
   "source": [
    "**Выведите статистику rest_ecg для все числовых признаков, его максимально и среднее значение (используйте groupby(), решите в одну строчку)**"
   ]
  },
  {
   "cell_type": "code",
   "execution_count": 451,
   "metadata": {},
   "outputs": [
    {
     "data": {
      "text/plain": [
       "['age',\n",
       " 'resting_blood_pressure',\n",
       " 'cholesterol',\n",
       " 'max_heart_rate_achieved',\n",
       " 'st_depression',\n",
       " 'num_major_vessels',\n",
       " 'target']"
      ]
     },
     "execution_count": 451,
     "metadata": {},
     "output_type": "execute_result"
    }
   ],
   "source": [
    "numbers = [i for i in data.columns if data[i].dtype!=object]\n",
    "numbers"
   ]
  },
  {
   "cell_type": "code",
   "execution_count": 452,
   "metadata": {
    "scrolled": true
   },
   "outputs": [
    {
     "data": {
      "text/html": [
       "<div>\n",
       "<style scoped>\n",
       "    .dataframe tbody tr th:only-of-type {\n",
       "        vertical-align: middle;\n",
       "    }\n",
       "\n",
       "    .dataframe tbody tr th {\n",
       "        vertical-align: top;\n",
       "    }\n",
       "\n",
       "    .dataframe thead th {\n",
       "        text-align: right;\n",
       "    }\n",
       "</style>\n",
       "<table border=\"1\" class=\"dataframe\">\n",
       "  <thead>\n",
       "    <tr style=\"text-align: right;\">\n",
       "      <th></th>\n",
       "      <th>age</th>\n",
       "      <th>resting_blood_pressure</th>\n",
       "      <th>cholesterol</th>\n",
       "      <th>max_heart_rate_achieved</th>\n",
       "      <th>st_depression</th>\n",
       "      <th>num_major_vessels</th>\n",
       "      <th>target</th>\n",
       "      <th>age</th>\n",
       "      <th>resting_blood_pressure</th>\n",
       "      <th>cholesterol</th>\n",
       "      <th>max_heart_rate_achieved</th>\n",
       "      <th>st_depression</th>\n",
       "      <th>num_major_vessels</th>\n",
       "      <th>target</th>\n",
       "    </tr>\n",
       "    <tr>\n",
       "      <th>rest_ecg</th>\n",
       "      <th></th>\n",
       "      <th></th>\n",
       "      <th></th>\n",
       "      <th></th>\n",
       "      <th></th>\n",
       "      <th></th>\n",
       "      <th></th>\n",
       "      <th></th>\n",
       "      <th></th>\n",
       "      <th></th>\n",
       "      <th></th>\n",
       "      <th></th>\n",
       "      <th></th>\n",
       "      <th></th>\n",
       "    </tr>\n",
       "  </thead>\n",
       "  <tbody>\n",
       "    <tr>\n",
       "      <th>ST-T wave abnormality</th>\n",
       "      <td>71</td>\n",
       "      <td>180</td>\n",
       "      <td>354</td>\n",
       "      <td>194</td>\n",
       "      <td>5.6</td>\n",
       "      <td>4</td>\n",
       "      <td>1</td>\n",
       "      <td>52.914474</td>\n",
       "      <td>129.065789</td>\n",
       "      <td>237.269737</td>\n",
       "      <td>151.960526</td>\n",
       "      <td>0.879605</td>\n",
       "      <td>0.638158</td>\n",
       "      <td>0.631579</td>\n",
       "    </tr>\n",
       "    <tr>\n",
       "      <th>left ventricular hypertrophy</th>\n",
       "      <td>76</td>\n",
       "      <td>180</td>\n",
       "      <td>327</td>\n",
       "      <td>140</td>\n",
       "      <td>4.4</td>\n",
       "      <td>3</td>\n",
       "      <td>1</td>\n",
       "      <td>61.000000</td>\n",
       "      <td>140.500000</td>\n",
       "      <td>261.750000</td>\n",
       "      <td>125.750000</td>\n",
       "      <td>2.725000</td>\n",
       "      <td>1.000000</td>\n",
       "      <td>0.250000</td>\n",
       "    </tr>\n",
       "    <tr>\n",
       "      <th>normal</th>\n",
       "      <td>77</td>\n",
       "      <td>200</td>\n",
       "      <td>564</td>\n",
       "      <td>202</td>\n",
       "      <td>6.2</td>\n",
       "      <td>4</td>\n",
       "      <td>1</td>\n",
       "      <td>55.687075</td>\n",
       "      <td>134.027211</td>\n",
       "      <td>255.142857</td>\n",
       "      <td>147.904762</td>\n",
       "      <td>1.159184</td>\n",
       "      <td>0.816327</td>\n",
       "      <td>0.462585</td>\n",
       "    </tr>\n",
       "  </tbody>\n",
       "</table>\n",
       "</div>"
      ],
      "text/plain": [
       "                              age  resting_blood_pressure  cholesterol  \\\n",
       "rest_ecg                                                                 \n",
       "ST-T wave abnormality          71                     180          354   \n",
       "left ventricular hypertrophy   76                     180          327   \n",
       "normal                         77                     200          564   \n",
       "\n",
       "                              max_heart_rate_achieved  st_depression  \\\n",
       "rest_ecg                                                               \n",
       "ST-T wave abnormality                             194            5.6   \n",
       "left ventricular hypertrophy                      140            4.4   \n",
       "normal                                            202            6.2   \n",
       "\n",
       "                              num_major_vessels  target        age  \\\n",
       "rest_ecg                                                             \n",
       "ST-T wave abnormality                         4       1  52.914474   \n",
       "left ventricular hypertrophy                  3       1  61.000000   \n",
       "normal                                        4       1  55.687075   \n",
       "\n",
       "                              resting_blood_pressure  cholesterol  \\\n",
       "rest_ecg                                                            \n",
       "ST-T wave abnormality                     129.065789   237.269737   \n",
       "left ventricular hypertrophy              140.500000   261.750000   \n",
       "normal                                    134.027211   255.142857   \n",
       "\n",
       "                              max_heart_rate_achieved  st_depression  \\\n",
       "rest_ecg                                                               \n",
       "ST-T wave abnormality                      151.960526       0.879605   \n",
       "left ventricular hypertrophy               125.750000       2.725000   \n",
       "normal                                     147.904762       1.159184   \n",
       "\n",
       "                              num_major_vessels    target  \n",
       "rest_ecg                                                   \n",
       "ST-T wave abnormality                  0.638158  0.631579  \n",
       "left ventricular hypertrophy           1.000000  0.250000  \n",
       "normal                                 0.816327  0.462585  "
      ]
     },
     "execution_count": 452,
     "metadata": {},
     "output_type": "execute_result"
    }
   ],
   "source": [
    "pd.concat([data.groupby(\"rest_ecg\")[numbers].max(), data.groupby(\"rest_ecg\")[numbers].mean()], axis =1)"
   ]
  },
  {
   "cell_type": "markdown",
   "metadata": {},
   "source": [
    "**Посчитайте у кого уровень депрессии при физический нагрузке выше (в среднем), среди мужчин страдающих болезнью сердца или среди женщин не страдающих болезнью сердца (st_depression)**"
   ]
  },
  {
   "cell_type": "code",
   "execution_count": 535,
   "metadata": {},
   "outputs": [],
   "source": [
    "import seaborn as sns\n",
    "plt.style.use('fivethirtyeight')"
   ]
  },
  {
   "cell_type": "code",
   "execution_count": 536,
   "metadata": {
    "scrolled": true
   },
   "outputs": [
    {
     "data": {
      "image/png": "[encoded data removed]",
      "text/plain": [
       "<Figure size 800x800 with 1 Axes>"
      ]
     },
     "metadata": {},
     "output_type": "display_data"
    }
   ],
   "source": [
    "\n",
    "f,ax=plt.subplots(1, 1, figsize=(8,8))\n",
    "data[['target','st_depression', 'sex']].groupby(['target', 'sex']).mean().plot.bar(ax=ax)\n",
    "ax.set_title('St_depression vs Sex')\n",
    "\n",
    "plt.show()"
   ]
  },
  {
   "cell_type": "markdown",
   "metadata": {},
   "source": [
    "*Очевидно, что уровень депрессии при физический нагрузке выше у женщин не страдающих болезнью сердца*"
   ]
  },
  {
   "cell_type": "markdown",
   "metadata": {},
   "source": [
    "**Посчтитайте максимальный и минимальный уровень холестерина для каждого типа chest_pain_type, rest_ecg, thalassemia. Пишите код оптимально, можно использовать циклы**"
   ]
  },
  {
   "cell_type": "code",
   "execution_count": 522,
   "metadata": {},
   "outputs": [
    {
     "name": "stdout",
     "output_type": "stream",
     "text": [
      "                  cholesterol\n",
      "chest_pain_type              \n",
      "atypical angina           126\n",
      "non-anginal pain          182\n",
      "typical angina            131\n",
      "                  cholesterol\n",
      "chest_pain_type              \n",
      "atypical angina           564\n",
      "non-anginal pain          298\n",
      "typical angina            409\n",
      "                              cholesterol\n",
      "rest_ecg                                 \n",
      "ST-T wave abnormality                 126\n",
      "left ventricular hypertrophy          197\n",
      "normal                                149\n",
      "                              cholesterol\n",
      "rest_ecg                                 \n",
      "ST-T wave abnormality                 354\n",
      "left ventricular hypertrophy          327\n",
      "normal                                564\n",
      "                   cholesterol\n",
      "thalassemia                   \n",
      "fixed defect               141\n",
      "normal                     169\n",
      "reversable defect          126\n",
      "                   cholesterol\n",
      "thalassemia                   \n",
      "fixed defect               417\n",
      "normal                     318\n",
      "reversable defect          564\n"
     ]
    }
   ],
   "source": [
    "col = ['chest_pain_type', 'rest_ecg', 'thalassemia']\n",
    "for i in col:\n",
    "    print(data[[i,'cholesterol']].groupby([i]).min())\n",
    "    print(data[[i,'cholesterol']].groupby([i]).max())\n"
   ]
  },
  {
   "cell_type": "markdown",
   "metadata": {},
   "source": [
    "**Сколько значений может принимать каждый из категориальных признаков?**"
   ]
  },
  {
   "cell_type": "code",
   "execution_count": 523,
   "metadata": {},
   "outputs": [
    {
     "data": {
      "text/html": [
       "<div>\n",
       "<style scoped>\n",
       "    .dataframe tbody tr th:only-of-type {\n",
       "        vertical-align: middle;\n",
       "    }\n",
       "\n",
       "    .dataframe tbody tr th {\n",
       "        vertical-align: top;\n",
       "    }\n",
       "\n",
       "    .dataframe thead th {\n",
       "        text-align: right;\n",
       "    }\n",
       "</style>\n",
       "<table border=\"1\" class=\"dataframe\">\n",
       "  <thead>\n",
       "    <tr style=\"text-align: right;\">\n",
       "      <th></th>\n",
       "      <th>sex</th>\n",
       "      <th>chest_pain_type</th>\n",
       "      <th>fasting_blood_sugar</th>\n",
       "      <th>rest_ecg</th>\n",
       "      <th>exercise_induced_angina</th>\n",
       "      <th>st_slope</th>\n",
       "      <th>thalassemia</th>\n",
       "    </tr>\n",
       "  </thead>\n",
       "  <tbody>\n",
       "    <tr>\n",
       "      <th>unique</th>\n",
       "      <td>2</td>\n",
       "      <td>3</td>\n",
       "      <td>2</td>\n",
       "      <td>3</td>\n",
       "      <td>2</td>\n",
       "      <td>2</td>\n",
       "      <td>3</td>\n",
       "    </tr>\n",
       "  </tbody>\n",
       "</table>\n",
       "</div>"
      ],
      "text/plain": [
       "       sex chest_pain_type fasting_blood_sugar rest_ecg  \\\n",
       "unique   2               3                   2        3   \n",
       "\n",
       "       exercise_induced_angina st_slope thalassemia  \n",
       "unique                       2        2           3  "
      ]
     },
     "execution_count": 523,
     "metadata": {},
     "output_type": "execute_result"
    }
   ],
   "source": [
    "names = [i for i in data.columns if data[i].dtype==object]\n",
    "\n",
    "data[names].describe().loc[['unique']]"
   ]
  },
  {
   "cell_type": "markdown",
   "metadata": {},
   "source": [
    "**У какого категориального признака наблюдается самый сильный дизбаланс классов?**"
   ]
  },
  {
   "cell_type": "code",
   "execution_count": 562,
   "metadata": {},
   "outputs": [
    {
     "data": {
      "text/plain": [
       "'rest_ecg'"
      ]
     },
     "execution_count": 562,
     "metadata": {},
     "output_type": "execute_result"
    }
   ],
   "source": [
    "\n",
    "disbalans = {}\n",
    "for i in names:\n",
    "    max_i = data[i].value_counts(normalize=True).max()\n",
    "    min_i = data[i].value_counts(normalize=True).min()\n",
    "    disbalans[i] = max_i/min_i\n",
    "max(disbalans, key = disbalans.get)\n"
   ]
  },
  {
   "cell_type": "markdown",
   "metadata": {},
   "source": [
    "Если я правильно поняла, дисбаланс классов для данной задачи - это отношение количества максимально употребляемого признака к минимально употребляемому. И чем больше это отношение - тем больше дизбаланс."
   ]
  }
 ],
 "metadata": {
  "kernelspec": {
   "display_name": "Python 3 (ipykernel)",
   "language": "python",
   "name": "python3"
  },
  "language_info": {
   "codemirror_mode": {
    "name": "ipython",
    "version": 3
   },
   "file_extension": ".py",
   "mimetype": "text/x-python",
   "name": "python",
   "nbconvert_exporter": "python",
   "pygments_lexer": "ipython3",
   "version": "3.10.9"
  }
 },
 "nbformat": 4,
 "nbformat_minor": 2
}
